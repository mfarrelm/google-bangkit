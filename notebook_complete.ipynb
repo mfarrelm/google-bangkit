{
 "cells": [
  {
   "cell_type": "code",
   "execution_count": 2,
   "metadata": {
    "colab": {},
    "colab_type": "code",
    "id": "yOMhFPSfzXKT"
   },
   "outputs": [],
   "source": [
    "import pandas as pd\n",
    "import numpy as np\n",
    "import seaborn as sns\n",
    "import matplotlib.pyplot as plt\n",
    "from sklearn import preprocessing\n",
    "from sklearn.model_selection import train_test_split, KFold, StratifiedKFold\n",
    "from sklearn.ensemble import RandomForestClassifier, VotingClassifier, AdaBoostClassifier, GradientBoostingClassifier\n",
    "from sklearn.metrics import accuracy_score\n",
    "from keras import models\n",
    "from keras import layers"
   ]
  },
  {
   "cell_type": "code",
   "execution_count": 3,
   "metadata": {
    "colab": {},
    "colab_type": "code",
    "id": "tfa2caYf1USx"
   },
   "outputs": [],
   "source": [
    "df = pd.read_csv(\"hotel_bookings.csv\")\n",
    "portugal_holiday = pd.read_csv(\"portugal_holiday.csv\", sep=';')"
   ]
  },
  {
   "cell_type": "code",
   "execution_count": 5,
   "metadata": {
    "colab": {},
    "colab_type": "code",
    "id": "DRcjlLRNpWp5"
   },
   "outputs": [],
   "source": [
    "month_dict = {\n",
    "    'January' : 1,\n",
    "    'February' : 2,\n",
    "    'March' : 3,\n",
    "    'April' : 4,\n",
    "    'May' : 5,\n",
    "    'June' : 6,\n",
    "    'July' : 7,\n",
    "    'August' : 8,\n",
    "    'September' : 9,\n",
    "    'October' : 10,\n",
    "    'November' : 11,\n",
    "    'December' : 12\n",
    "}\n",
    "\n",
    "df['arrival_date_month'] = df['arrival_date_month'].apply(lambda x: month_dict[x])\n",
    "df.rename(columns={\"arrival_date_year\": \"year\", \"arrival_date_month\": \"month\", 'arrival_date_week_number':'week', 'arrival_date_day_of_month':'day'}, inplace=True)\n",
    "df['full_date'] = pd.to_datetime(df[['year', 'month', 'day']])\n",
    "df['week_date'] = df['year'].astype(str) +'/' + df['full_date'].dt.week.astype(str)\n",
    "df['month_date'] = df['year'].astype(str) + '/' + df['full_date'].dt.month.astype(str)"
   ]
  },
  {
   "cell_type": "code",
   "execution_count": 6,
   "metadata": {
    "colab": {},
    "colab_type": "code",
    "id": "ZEjkICMPsIiU"
   },
   "outputs": [],
   "source": [
    "awr = df[['week_date', 'adr']].groupby(by='week_date').mean()\n",
    "amr = df[['month_date', 'adr']].groupby(by='month_date').mean()\n",
    "df['awr'] = df['week_date'].apply(lambda date: awr.loc[date,'adr'])\n",
    "df['amr'] = df['month_date'].apply(lambda date: amr.loc[date,'adr'])\n",
    "df['adr_min_awr'] = df['adr'] - df['awr']\n",
    "df['adr_min_amr'] = df['adr'] - df['amr']"
   ]
  },
  {
   "cell_type": "code",
   "execution_count": 7,
   "metadata": {
    "colab": {},
    "colab_type": "code",
    "id": "d1aXeCV6obqq"
   },
   "outputs": [],
   "source": [
    "portugal_holiday = pd.to_datetime(portugal_holiday)\n",
    "holiday_list = portugal_holiday.tolist()\n",
    "portugal_week = portugal_holiday.dt.year.astype(str) + '/' + portugal_holiday.dt.week.astype(str)\n",
    "holiday_week = portugal_week.tolist()"
   ]
  },
  {
   "cell_type": "code",
   "execution_count": 8,
   "metadata": {
    "colab": {},
    "colab_type": "code",
    "id": "4fA_hVM3tXMh"
   },
   "outputs": [],
   "source": [
    "df['is_holiday_day'] = df['full_date'].apply(lambda date : 1 if date in holiday_list else 0)\n",
    "df['is_holiday_week'] = df['week_date'].apply(lambda date : 1 if date in holiday_week else 0)\n",
    "df['reservation_date'] = df['full_date'] - pd.to_timedelta(df['lead_time'], unit='d')\n",
    "df['is_room_change'] = df['reserved_room_type'] != df['assigned_room_type']\n",
    "df['is_weekend'] = df['full_date'].dt.weekday >= 5\n",
    "df['is_booking_changes'] = df['booking_changes'] > 0\n",
    "df['is_request'] = df['total_of_special_requests'] > 0\n",
    "df['is_company_null'] = df['company'].isnull()\n",
    "df['is_agent_null'] = df['agent'].isnull()\n",
    "df['children'] = df['children'].fillna(df['children'].mode()[0])\n",
    "df['is_portugal'] = df['country'] == 'PRT'\n",
    "df['cancel_ratio'] = df['previous_cancellations']/(df['previous_cancellations']+df['previous_bookings_not_canceled'])\n",
    "df['total_person'] = df['adults'] + df['children'] + df['babies']"
   ]
  },
  {
   "cell_type": "code",
   "execution_count": 9,
   "metadata": {
    "colab": {},
    "colab_type": "code",
    "id": "Mj9dlxa95bCU"
   },
   "outputs": [],
   "source": [
    "df['cancel_ratio'] = df['cancel_ratio'].fillna(0)"
   ]
  },
  {
   "cell_type": "code",
   "execution_count": 10,
   "metadata": {
    "colab": {},
    "colab_type": "code",
    "id": "oET94nnM7TZN"
   },
   "outputs": [],
   "source": [
    "binning_list = np.arange(-1, 751, 25)\n",
    "df['lead_binned'] = pd.cut(df['lead_time'], binning_list)\n",
    "df['is_not_canceled'] = df['is_canceled'].apply(lambda x : 1 if x == 0 else 0)"
   ]
  },
  {
   "cell_type": "code",
   "execution_count": 11,
   "metadata": {
    "colab": {},
    "colab_type": "code",
    "id": "BEICfvJcozv8"
   },
   "outputs": [],
   "source": [
    "df_ready = df.drop(['week', 'country', 'full_date', 'week_date', 'month_date', 'reservation_date', 'is_not_canceled', 'reservation_status_date', 'reservation_status', 'agent', 'company'], axis=1)\n",
    "df_ready = df_ready.astype({'is_portugal':int, 'is_room_change':int, 'is_weekend':int, 'is_booking_changes':int, 'is_request':int, 'is_company_null':int, 'is_agent_null':int})"
   ]
  },
  {
   "cell_type": "code",
   "execution_count": 15,
   "metadata": {
    "colab": {},
    "colab_type": "code",
    "id": "LT_cHLb4u8nX"
   },
   "outputs": [],
   "source": [
    "le = preprocessing.LabelEncoder()\n",
    "le.fit(df_ready['lead_binned'])\n",
    "df_ready['lead_binned'] = le.transform(df_ready['lead_binned'])\n",
    "\n",
    "le = preprocessing.LabelEncoder()\n",
    "le.fit(df_ready['reserved_room_type'])\n",
    "df_ready['reserved_room_type'] = le.transform(df_ready['reserved_room_type'])\n",
    "\n",
    "le = preprocessing.LabelEncoder()\n",
    "le.fit(df_ready['assigned_room_type'])\n",
    "df_ready['assigned_room_type'] = le.transform(df_ready['assigned_room_type'])"
   ]
  },
  {
   "cell_type": "code",
   "execution_count": 16,
   "metadata": {
    "colab": {},
    "colab_type": "code",
    "id": "9Gcks_UPuFjw"
   },
   "outputs": [],
   "source": [
    "ohc_df = pd.get_dummies(df_ready[['hotel', 'meal', 'market_segment', 'distribution_channel', 'deposit_type', 'customer_type']], drop_first=True)\n",
    "df_ready.drop(['hotel', 'meal', 'market_segment', 'distribution_channel', 'deposit_type', 'customer_type'], axis=1, inplace=True)\n",
    "df_ready = pd.concat([df_ready, ohc_df], axis=1)"
   ]
  },
  {
   "cell_type": "code",
   "execution_count": 50,
   "metadata": {},
   "outputs": [],
   "source": [
    "X = df_ready.drop(['is_canceled'], axis=1).to_numpy()\n",
    "scaler = preprocessing.StandardScaler()\n",
    "X_standardized = scaler.fit_transform(X)\n",
    "y = df_ready['is_canceled'].to_numpy()"
   ]
  },
  {
   "cell_type": "code",
   "execution_count": 51,
   "metadata": {},
   "outputs": [
    {
     "name": "stdout",
     "output_type": "stream",
     "text": [
      "Mean Before Standardized: 104.0\n",
      "Standard deviation Before Standardized: 106.86264950916215\n",
      "\n",
      "Mean After Standardized: 0.0\n",
      "Standard deviation After Standardized: 1.0\n"
     ]
    }
   ],
   "source": [
    "print(\"Mean Before Standardized:\", round(X[:,0].mean()))\n",
    "print(\"Standard deviation Before Standardized:\", X[:,0].std())\n",
    "\n",
    "print(\"\\nMean After Standardized:\", round(X_standardized[:,0].mean()))\n",
    "print(\"Standard deviation After Standardized:\", X_standardized[:,0].std())"
   ]
  },
  {
   "cell_type": "code",
   "execution_count": 52,
   "metadata": {},
   "outputs": [],
   "source": [
    "network = models.Sequential()\n",
    "network.add(layers.Dense(units=16, activation=\"relu\", input_shape=(X.shape[1],)))\n",
    "network.add(layers.Dense(units=16, activation=\"relu\"))\n",
    "network.add(layers.Dense(units=1, activation=\"sigmoid\"))\n",
    "network.compile(loss=\"binary_crossentropy\",\n",
    "                optimizer=\"adam\", \n",
    "                metrics=[\"accuracy\"]) "
   ]
  },
  {
   "cell_type": "code",
   "execution_count": 58,
   "metadata": {
    "colab": {},
    "colab_type": "code",
    "id": "LKNfP494r75k"
   },
   "outputs": [
    {
     "name": "stdout",
     "output_type": "stream",
     "text": [
      "Epoch 1/10\n",
      "95511/95511 [==============================] - 1s 8us/step - loss: 0.3860 - accuracy: 0.8132\n",
      "Epoch 2/10\n",
      "95511/95511 [==============================] - 1s 9us/step - loss: 0.3862 - accuracy: 0.8139\n",
      "Epoch 3/10\n",
      "95511/95511 [==============================] - 1s 9us/step - loss: 0.3849 - accuracy: 0.8145\n",
      "Epoch 4/10\n",
      "95511/95511 [==============================] - 1s 10us/step - loss: 0.3917 - accuracy: 0.8115\n",
      "Epoch 5/10\n",
      "95511/95511 [==============================] - 1s 9us/step - loss: 0.3865 - accuracy: 0.8132\n",
      "Epoch 6/10\n",
      "95511/95511 [==============================] - 1s 9us/step - loss: 0.3903 - accuracy: 0.8097\n",
      "Epoch 7/10\n",
      "95511/95511 [==============================] - 1s 9us/step - loss: 0.3784 - accuracy: 0.8174\n",
      "Epoch 8/10\n",
      "95511/95511 [==============================] - 1s 9us/step - loss: 0.3859 - accuracy: 0.8131\n",
      "Epoch 9/10\n",
      "95511/95511 [==============================] - 1s 9us/step - loss: 0.3865 - accuracy: 0.8125\n",
      "Epoch 10/10\n",
      "95511/95511 [==============================] - 1s 9us/step - loss: 0.3815 - accuracy: 0.8152\n",
      "0.8096235185728046\n",
      "Epoch 1/10\n",
      "95512/95512 [==============================] - 1s 8us/step - loss: 0.3780 - accuracy: 0.8177\n",
      "Epoch 2/10\n",
      "95512/95512 [==============================] - 1s 8us/step - loss: 0.3797 - accuracy: 0.8158\n",
      "Epoch 3/10\n",
      "95512/95512 [==============================] - 1s 8us/step - loss: 0.3832 - accuracy: 0.8135\n",
      "Epoch 4/10\n",
      "95512/95512 [==============================] - 1s 9us/step - loss: 0.3804 - accuracy: 0.8158\n",
      "Epoch 5/10\n",
      "95512/95512 [==============================] - 1s 8us/step - loss: 0.3816 - accuracy: 0.8142\n",
      "Epoch 6/10\n",
      "95512/95512 [==============================] - 1s 9us/step - loss: 0.3873 - accuracy: 0.8130\n",
      "Epoch 7/10\n",
      "95512/95512 [==============================] - 1s 9us/step - loss: 0.3758 - accuracy: 0.8178\n",
      "Epoch 8/10\n",
      "95512/95512 [==============================] - 1s 9us/step - loss: 0.3799 - accuracy: 0.8164\n",
      "Epoch 9/10\n",
      "95512/95512 [==============================] - 1s 8us/step - loss: 0.3780 - accuracy: 0.8172\n",
      "Epoch 10/10\n",
      "95512/95512 [==============================] - 1s 8us/step - loss: 0.3841 - accuracy: 0.8153\n",
      "0.8136778624675434\n",
      "Epoch 1/10\n",
      "95512/95512 [==============================] - 1s 8us/step - loss: 0.3803 - accuracy: 0.8181\n",
      "Epoch 2/10\n",
      "95512/95512 [==============================] - 1s 9us/step - loss: 0.3766 - accuracy: 0.8208\n",
      "Epoch 3/10\n",
      "95512/95512 [==============================] - 1s 11us/step - loss: 0.3703 - accuracy: 0.8250\n",
      "Epoch 4/10\n",
      "95512/95512 [==============================] - 1s 10us/step - loss: 0.3721 - accuracy: 0.8237\n",
      "Epoch 5/10\n",
      "95512/95512 [==============================] - 1s 10us/step - loss: 0.3715 - accuracy: 0.8245\n",
      "Epoch 6/10\n",
      "95512/95512 [==============================] - 1s 9us/step - loss: 0.3665 - accuracy: 0.8280\n",
      "Epoch 7/10\n",
      "95512/95512 [==============================] - 1s 9us/step - loss: 0.3724 - accuracy: 0.8236\n",
      "Epoch 8/10\n",
      "95512/95512 [==============================] - 1s 8us/step - loss: 0.3715 - accuracy: 0.8239\n",
      "Epoch 9/10\n",
      "95512/95512 [==============================] - 1s 9us/step - loss: 0.3690 - accuracy: 0.8257\n",
      "Epoch 10/10\n",
      "95512/95512 [==============================] - 1s 10us/step - loss: 0.3739 - accuracy: 0.8217\n",
      "0.833235614373063\n",
      "Epoch 1/10\n",
      "95512/95512 [==============================] - 1s 10us/step - loss: 0.3711 - accuracy: 0.8245\n",
      "Epoch 2/10\n",
      "95512/95512 [==============================] - 1s 10us/step - loss: 0.3677 - accuracy: 0.8263\n",
      "Epoch 3/10\n",
      "95512/95512 [==============================] - 1s 10us/step - loss: 0.3726 - accuracy: 0.8232\n",
      "Epoch 4/10\n",
      "95512/95512 [==============================] - 1s 11us/step - loss: 0.3789 - accuracy: 0.8191\n",
      "Epoch 5/10\n",
      "95512/95512 [==============================] - 1s 9us/step - loss: 0.3690 - accuracy: 0.8259\n",
      "Epoch 6/10\n",
      "95512/95512 [==============================] - 1s 9us/step - loss: 0.3669 - accuracy: 0.8266\n",
      "Epoch 7/10\n",
      "95512/95512 [==============================] - 1s 12us/step - loss: 0.3744 - accuracy: 0.8221 0s\n",
      "Epoch 8/10\n",
      "95512/95512 [==============================] - 1s 10us/step - loss: 0.3642 - accuracy: 0.8284\n",
      "Epoch 9/10\n",
      "95512/95512 [==============================] - 1s 9us/step - loss: 0.3660 - accuracy: 0.8268\n",
      "Epoch 10/10\n",
      "95512/95512 [==============================] - 1s 9us/step - loss: 0.3692 - accuracy: 0.8255\n",
      "0.835162073875534\n",
      "Epoch 1/10\n",
      "95513/95513 [==============================] - 1s 11us/step - loss: 0.3618 - accuracy: 0.8283\n",
      "Epoch 2/10\n",
      "95513/95513 [==============================] - 1s 10us/step - loss: 0.3668 - accuracy: 0.8266\n",
      "Epoch 3/10\n",
      "95513/95513 [==============================] - 1s 10us/step - loss: 0.3664 - accuracy: 0.8265\n",
      "Epoch 4/10\n",
      "95513/95513 [==============================] - 1s 10us/step - loss: 0.3710 - accuracy: 0.8250\n",
      "Epoch 5/10\n",
      "95513/95513 [==============================] - 1s 9us/step - loss: 0.3599 - accuracy: 0.8308\n",
      "Epoch 6/10\n",
      "95513/95513 [==============================] - 1s 10us/step - loss: 0.3616 - accuracy: 0.8292\n",
      "Epoch 7/10\n",
      "95513/95513 [==============================] - 1s 11us/step - loss: 0.3726 - accuracy: 0.8225\n",
      "Epoch 8/10\n",
      "95513/95513 [==============================] - 1s 12us/step - loss: 0.3635 - accuracy: 0.8276\n",
      "Epoch 9/10\n",
      "95513/95513 [==============================] - 1s 11us/step - loss: 0.3615 - accuracy: 0.8298\n",
      "Epoch 10/10\n",
      "95513/95513 [==============================] - 1s 10us/step - loss: 0.3634 - accuracy: 0.8273\n",
      "0.8313020898772878\n",
      "\n",
      "Accuracy mean: 0.8246002318332465\n",
      "Accuracy std: 0.010720422872480624\n"
     ]
    }
   ],
   "source": [
    "cv = StratifiedKFold(n_splits=5, random_state=None, shuffle=True)\n",
    "network_score = []\n",
    "for train_idx, test_idx in cv.split(X_standardized,y):\n",
    "    network.fit(X[train_idx], y[train_idx], \n",
    "                epochs=10, # Number of epochs\n",
    "                verbose=1, # Print description after each epoch\n",
    "                batch_size=100)\n",
    "    y_pred = network.predict(X[test_idx])\n",
    "    network_score.append(accuracy_score(y[test_idx], y_pred.round()))\n",
    "    print(network_score[-1])\n",
    "\n",
    "network_score = np.array(network_score)\n",
    "print(\"\\nAccuracy mean:\", network_score.mean())\n",
    "print(\"Accuracy std:\",network_score.std())"
   ]
  }
 ],
 "metadata": {
  "accelerator": "GPU",
  "colab": {
   "authorship_tag": "ABX9TyNAIn1aN4DL7AsSVu0jB6tr",
   "collapsed_sections": [],
   "name": "FindIT.ipynb",
   "provenance": []
  },
  "kernelspec": {
   "display_name": "Python 3",
   "language": "python",
   "name": "python3"
  },
  "language_info": {
   "codemirror_mode": {
    "name": "ipython",
    "version": 3
   },
   "file_extension": ".py",
   "mimetype": "text/x-python",
   "name": "python",
   "nbconvert_exporter": "python",
   "pygments_lexer": "ipython3",
   "version": "3.7.3"
  },
  "toc": {
   "base_numbering": 1,
   "nav_menu": {},
   "number_sections": true,
   "sideBar": true,
   "skip_h1_title": false,
   "title_cell": "Table of Contents",
   "title_sidebar": "Contents",
   "toc_cell": false,
   "toc_position": {},
   "toc_section_display": true,
   "toc_window_display": false
  },
  "varInspector": {
   "cols": {
    "lenName": 16,
    "lenType": 16,
    "lenVar": 40
   },
   "kernels_config": {
    "python": {
     "delete_cmd_postfix": "",
     "delete_cmd_prefix": "del ",
     "library": "var_list.py",
     "varRefreshCmd": "print(var_dic_list())"
    },
    "r": {
     "delete_cmd_postfix": ") ",
     "delete_cmd_prefix": "rm(",
     "library": "var_list.r",
     "varRefreshCmd": "cat(var_dic_list()) "
    }
   },
   "types_to_exclude": [
    "module",
    "function",
    "builtin_function_or_method",
    "instance",
    "_Feature"
   ],
   "window_display": false
  }
 },
 "nbformat": 4,
 "nbformat_minor": 1
}
