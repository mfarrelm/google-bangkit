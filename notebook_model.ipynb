{
 "cells": [
  {
   "cell_type": "code",
   "execution_count": 5,
   "metadata": {
    "ExecuteTime": {
     "end_time": "2020-04-05T09:55:45.278893Z",
     "start_time": "2020-04-05T09:55:45.268885Z"
    }
   },
   "outputs": [],
   "source": [
    "import pandas as pd\n",
    "import numpy as np\n",
    "import seaborn as sns\n",
    "import matplotlib.pyplot as plt\n",
    "import tensorflow as tf\n",
    "from sklearn import preprocessing\n",
    "from sklearn.model_selection import train_test_split, KFold, StratifiedKFold\n",
    "from sklearn.metrics import accuracy_score, classification_report\n",
    "from tensorflow.keras import models\n",
    "from tensorflow.keras.models import Model\n",
    "from tensorflow.keras.layers import Dense, Input, BatchNormalization, Dropout\n",
    "from tensorflow.keras.optimizers import Adam\n",
    "from tensorflow.keras.regularizers import l2\n",
    "from keras import backend as K"
   ]
  },
  {
   "cell_type": "code",
   "execution_count": 6,
   "metadata": {
    "ExecuteTime": {
     "end_time": "2020-04-05T09:48:45.308053Z",
     "start_time": "2020-04-05T09:48:44.882603Z"
    }
   },
   "outputs": [],
   "source": [
    "df_ready = pd.read_csv('df_ready.csv')"
   ]
  },
  {
   "cell_type": "code",
   "execution_count": 7,
   "metadata": {
    "ExecuteTime": {
     "end_time": "2020-04-05T09:48:45.625623Z",
     "start_time": "2020-04-05T09:48:45.362952Z"
    }
   },
   "outputs": [
    {
     "name": "stdout",
     "output_type": "stream",
     "text": [
      "Mean Before Standardized: 104.0\n",
      "Standard deviation Before Standardized: 106.86264950916215\n",
      "\n",
      "Mean After Standardized: 0.0\n",
      "Standard deviation After Standardized: 1.0\n"
     ]
    }
   ],
   "source": [
    "X = df_ready.drop(['is_canceled'], axis=1).to_numpy()\n",
    "y = df_ready['is_canceled'].to_numpy()\n",
    "scaler = preprocessing.StandardScaler()\n",
    "X_standardized = scaler.fit_transform(X)\n",
    "\n",
    "print(\"Mean Before Standardized:\", round(X[:,0].mean()))\n",
    "print(\"Standard deviation Before Standardized:\", X[:,0].std())\n",
    "print(\"\\nMean After Standardized:\", round(X_standardized[:,0].mean()))\n",
    "print(\"Standard deviation After Standardized:\", X_standardized[:,0].std())"
   ]
  },
  {
   "cell_type": "code",
   "execution_count": 8,
   "metadata": {
    "ExecuteTime": {
     "end_time": "2020-04-05T09:53:15.590960Z",
     "start_time": "2020-04-05T09:53:15.247966Z"
    }
   },
   "outputs": [],
   "source": [
    "#Build Model\n",
    "def recall_m(y_true, y_pred):\n",
    "    true_positives = K.sum(K.round(K.clip(y_true * y_pred, 0, 1)))\n",
    "    possible_positives = K.sum(K.round(K.clip(y_true, 0, 1)))\n",
    "    recall = true_positives / (possible_positives + K.epsilon())\n",
    "    return recall\n",
    "\n",
    "def precision_m(y_true, y_pred):\n",
    "    true_positives = K.sum(K.round(K.clip(y_true * y_pred, 0, 1)))\n",
    "    predicted_positives = K.sum(K.round(K.clip(y_pred, 0, 1)))\n",
    "    precision = true_positives / (predicted_positives + K.epsilon())\n",
    "    return precision\n",
    "\n",
    "def f1_m(y_true, y_pred):\n",
    "    precision = precision_m(y_true, y_pred)\n",
    "    recall = recall_m(y_true, y_pred)\n",
    "    return 2*((precision*recall)/(precision+recall+K.epsilon()))\n",
    "\n",
    "def create_model():\n",
    "    network = models.Sequential()\n",
    "    network.add(Dense(units=128, activation=\"elu\", input_shape=(X.shape[1],)))\n",
    "    network.add(BatchNormalization())\n",
    "    network.add(Dropout(rate = 0.1))\n",
    "    network.add(Dense(units=128, activation=\"elu\", kernel_regularizer = l2(0.2), bias_regularizer = l2(0.2)))\n",
    "    network.add(BatchNormalization())\n",
    "    network.add(Dense(units=128, activation=\"elu\", kernel_regularizer = l2(0.2), bias_regularizer = l2(0.2)))\n",
    "    network.add(BatchNormalization())\n",
    "    network.add(Dense(units=1, activation=\"sigmoid\"))\n",
    "    \n",
    "    opt = Adam(lr=0.001, decay = 1e-5, beta_1=0.9, beta_2=0.999, amsgrad=False)\n",
    "    network.compile(loss=\"binary_crossentropy\",\n",
    "                    optimizer=opt, \n",
    "                    metrics=[\"accuracy\", f1_m])\n",
    "    return network\n",
    "\n",
    "network = create_model()"
   ]
  },
  {
   "cell_type": "code",
   "execution_count": 9,
   "metadata": {
    "ExecuteTime": {
     "end_time": "2020-04-05T09:55:45.146484Z",
     "start_time": "2020-04-05T09:53:34.607675Z"
    }
   },
   "outputs": [
    {
     "name": "stdout",
     "output_type": "stream",
     "text": [
      "Train on 76409 samples, validate on 19103 samples\n",
      "Epoch 1/20\n",
      "76409/76409 [==============================] - 20s 259us/sample - loss: 4.3264 - accuracy: 0.8048 - f1_m: 0.7187 - val_loss: 0.4133 - val_accuracy: 0.8140 - val_f1_m: 0.7250\n",
      "Epoch 2/20\n",
      "76409/76409 [==============================] - 13s 169us/sample - loss: 0.4021 - accuracy: 0.8171 - f1_m: 0.7348 - val_loss: 0.3874 - val_accuracy: 0.8274 - val_f1_m: 0.7486\n",
      "Epoch 3/20\n",
      "76409/76409 [==============================] - 16s 213us/sample - loss: 0.3881 - accuracy: 0.8246 - f1_m: 0.7469 - val_loss: 0.4042 - val_accuracy: 0.8086 - val_f1_m: 0.6780s: 0.3881 - accuracy: 0.8248 \n",
      "Epoch 4/20\n",
      "76409/76409 [==============================] - 13s 170us/sample - loss: 0.3813 - accuracy: 0.8253 - f1_m: 0.7482 - val_loss: 0.3827 - val_accuracy: 0.8301 - val_f1_m: 0.7691\n",
      "Epoch 5/20\n",
      "76409/76409 [==============================] - 14s 186us/sample - loss: 0.3744 - accuracy: 0.8299 - f1_m: 0.7545 - val_loss: 0.3912 - val_accuracy: 0.8334 - val_f1_m: 0.7758\n",
      "Epoch 6/20\n",
      "76409/76409 [==============================] - 18s 233us/sample - loss: 0.3706 - accuracy: 0.8322 - f1_m: 0.7586 - val_loss: 0.3746 - val_accuracy: 0.8331 - val_f1_m: 0.7751\n",
      "Epoch 7/20\n",
      "76409/76409 [==============================] - 14s 182us/sample - loss: 0.3668 - accuracy: 0.8328 - f1_m: 0.7594 - val_loss: 0.3773 - val_accuracy: 0.8379 - val_f1_m: 0.7756\n",
      "Epoch 8/20\n",
      "76409/76409 [==============================] - 16s 211us/sample - loss: 0.3650 - accuracy: 0.8353 - f1_m: 0.7625 - val_loss: 0.3778 - val_accuracy: 0.8365 - val_f1_m: 0.7682\n",
      "Epoch 9/20\n",
      "76409/76409 [==============================] - 16s 208us/sample - loss: 0.3623 - accuracy: 0.8375 - f1_m: 0.7657 - val_loss: 0.3675 - val_accuracy: 0.8386 - val_f1_m: 0.7650\n",
      "Epoch 10/20\n",
      "76409/76409 [==============================] - 14s 179us/sample - loss: 0.3608 - accuracy: 0.8365 - f1_m: 0.7654 - val_loss: 0.4167 - val_accuracy: 0.7869 - val_f1_m: 0.6061\n",
      "Epoch 11/20\n",
      "76409/76409 [==============================] - 14s 180us/sample - loss: 0.3551 - accuracy: 0.8393 - f1_m: 0.7690 - val_loss: 0.3485 - val_accuracy: 0.8479 - val_f1_m: 0.7821\n",
      "Epoch 12/20\n",
      "76409/76409 [==============================] - 17s 223us/sample - loss: 0.3491 - accuracy: 0.8427 - f1_m: 0.7742 - val_loss: 0.3466 - val_accuracy: 0.8391 - val_f1_m: 0.7587\n",
      "Epoch 13/20\n",
      "76409/76409 [==============================] - 15s 191us/sample - loss: 0.3465 - accuracy: 0.8414 - f1_m: 0.7723 - val_loss: 0.3509 - val_accuracy: 0.8475 - val_f1_m: 0.7876\n",
      "Epoch 14/20\n",
      "76409/76409 [==============================] - 21s 276us/sample - loss: 0.3418 - accuracy: 0.8438 - f1_m: 0.7760 - val_loss: 0.3434 - val_accuracy: 0.8507 - val_f1_m: 0.7863\n",
      "Epoch 15/20\n",
      "76409/76409 [==============================] - 25s 325us/sample - loss: 0.3371 - accuracy: 0.8452 - f1_m: 0.7783 - val_loss: 0.3372 - val_accuracy: 0.8475 - val_f1_m: 0.7820\n",
      "Epoch 16/20\n",
      "76409/76409 [==============================] - 19s 251us/sample - loss: 0.3347 - accuracy: 0.8453 - f1_m: 0.7784 - val_loss: 0.3262 - val_accuracy: 0.8501 - val_f1_m: 0.7922\n",
      "Epoch 17/20\n",
      "76409/76409 [==============================] - 14s 177us/sample - loss: 0.3305 - accuracy: 0.8478 - f1_m: 0.7825 - val_loss: 0.3306 - val_accuracy: 0.8486 - val_f1_m: 0.7945\n",
      "Epoch 18/20\n",
      "76409/76409 [==============================] - 17s 224us/sample - loss: 0.3299 - accuracy: 0.8466 - f1_m: 0.7809 - val_loss: 0.3259 - val_accuracy: 0.8525 - val_f1_m: 0.7939 f1_m: 0. - ETA: 2s - l - ETA: 0s - loss: 0.3295 - accuracy\n",
      "Epoch 19/20\n",
      "76409/76409 [==============================] - 14s 177us/sample - loss: 0.3282 - accuracy: 0.8473 - f1_m: 0.7815 - val_loss: 0.3333 - val_accuracy: 0.8491 - val_f1_m: 0.7753\n",
      "Epoch 20/20\n",
      "76409/76409 [==============================] - 14s 183us/sample - loss: 0.3279 - accuracy: 0.8459 - f1_m: 0.7800 - val_loss: 0.3260 - val_accuracy: 0.8509 - val_f1_m: 0.7858\n"
     ]
    },
    {
     "data": {
      "image/png": "[encoded data removed]",
      "text/plain": [
       "<Figure size 432x288 with 1 Axes>"
      ]
     },
     "metadata": {
      "needs_background": "light"
     },
     "output_type": "display_data"
    }
   ],
   "source": [
    "X_train, X_test, y_train, y_test = train_test_split(X, y, shuffle = True, test_size = 0.2)\n",
    "scaler = preprocessing.StandardScaler()\n",
    "X_train = scaler.fit_transform(X_train)\n",
    "X_test = scaler.transform(X_test)\n",
    "history = network.fit(x = X_train, y = y_train, epochs = 20, batch_size = 128, validation_split = 0.2, shuffle = True)\n",
    "\n",
    "#Plot Loss\n",
    "plt.title('Loss Plot During Training')\n",
    "plt.plot(history.history['loss'], label='train')\n",
    "plt.plot(history.history['val_loss'], label='test')\n",
    "plt.legend()\n",
    "plt.show()"
   ]
  },
  {
   "cell_type": "code",
   "execution_count": 10,
   "metadata": {
    "ExecuteTime": {
     "end_time": "2020-04-05T09:56:33.094927Z",
     "start_time": "2020-04-05T09:56:31.969863Z"
    }
   },
   "outputs": [
    {
     "name": "stdout",
     "output_type": "stream",
     "text": [
      "Model Performance :\n",
      "              precision    recall  f1-score   support\n",
      "\n",
      "           0       0.86      0.92      0.89     15051\n",
      "           1       0.85      0.74      0.79      8827\n",
      "\n",
      "    accuracy                           0.85     23878\n",
      "   macro avg       0.85      0.83      0.84     23878\n",
      "weighted avg       0.85      0.85      0.85     23878\n",
      "\n"
     ]
    }
   ],
   "source": [
    "y_pred = network.predict(X_test).ravel().round()\n",
    "print(\"Model Performance :\")\n",
    "print(classification_report(y_test, y_pred))"
   ]
  }
 ],
 "metadata": {
  "kernelspec": {
   "display_name": "Python 3",
   "language": "python",
   "name": "python3"
  },
  "language_info": {
   "codemirror_mode": {
    "name": "ipython",
    "version": 3
   },
   "file_extension": ".py",
   "mimetype": "text/x-python",
   "name": "python",
   "nbconvert_exporter": "python",
   "pygments_lexer": "ipython3",
   "version": "3.7.3"
  },
  "toc": {
   "base_numbering": 1,
   "nav_menu": {},
   "number_sections": true,
   "sideBar": true,
   "skip_h1_title": false,
   "title_cell": "Table of Contents",
   "title_sidebar": "Contents",
   "toc_cell": false,
   "toc_position": {},
   "toc_section_display": true,
   "toc_window_display": false
  },
  "varInspector": {
   "cols": {
    "lenName": 16,
    "lenType": 16,
    "lenVar": 40
   },
   "kernels_config": {
    "python": {
     "delete_cmd_postfix": "",
     "delete_cmd_prefix": "del ",
     "library": "var_list.py",
     "varRefreshCmd": "print(var_dic_list())"
    },
    "r": {
     "delete_cmd_postfix": ") ",
     "delete_cmd_prefix": "rm(",
     "library": "var_list.r",
     "varRefreshCmd": "cat(var_dic_list()) "
    }
   },
   "types_to_exclude": [
    "module",
    "function",
    "builtin_function_or_method",
    "instance",
    "_Feature"
   ],
   "window_display": false
  }
 },
 "nbformat": 4,
 "nbformat_minor": 2
}
