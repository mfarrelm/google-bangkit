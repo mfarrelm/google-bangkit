{
 "cells": [
  {
   "cell_type": "code",
   "execution_count": 4,
   "metadata": {
    "ExecuteTime": {
     "end_time": "2020-04-05T10:34:39.832740Z",
     "start_time": "2020-04-05T10:34:39.826357Z"
    }
   },
   "outputs": [],
   "source": [
    "import pandas as pd\n",
    "import numpy as np\n",
    "import seaborn as sns\n",
    "import matplotlib.pyplot as plt\n",
    "import tensorflow as tf\n",
    "from sklearn import preprocessing\n",
    "from sklearn.model_selection import train_test_split, KFold, StratifiedKFold\n",
    "from sklearn.metrics import accuracy_score, classification_report\n",
    "from tensorflow.keras import models\n",
    "from tensorflow.keras.models import Model\n",
    "from tensorflow.keras.layers import Dense, Input, BatchNormalization, Dropout\n",
    "from tensorflow.keras.optimizers import Adam\n",
    "from tensorflow.keras.regularizers import l2\n",
    "from keras import backend as K"
   ]
  },
  {
   "cell_type": "code",
   "execution_count": 5,
   "metadata": {
    "ExecuteTime": {
     "end_time": "2020-04-05T10:34:40.958380Z",
     "start_time": "2020-04-05T10:34:40.030063Z"
    }
   },
   "outputs": [],
   "source": [
    "df_ready = pd.read_csv('df_ready.csv')"
   ]
  },
  {
   "cell_type": "code",
   "execution_count": 6,
   "metadata": {
    "ExecuteTime": {
     "end_time": "2020-04-05T10:34:41.357630Z",
     "start_time": "2020-04-05T10:34:41.166561Z"
    }
   },
   "outputs": [
    {
     "name": "stdout",
     "output_type": "stream",
     "text": [
      "Mean Before Standardized: 104.0\n",
      "Standard deviation Before Standardized: 106.86264950916215\n",
      "\n",
      "Mean After Standardized: 0.0\n",
      "Standard deviation After Standardized: 1.0\n"
     ]
    }
   ],
   "source": [
    "X = df_ready.drop(['is_canceled'], axis=1).to_numpy()\n",
    "y = df_ready['is_canceled'].to_numpy()\n",
    "scaler = preprocessing.StandardScaler()\n",
    "X_standardized = scaler.fit_transform(X)\n",
    "\n",
    "print(\"Mean Before Standardized:\", round(X[:,0].mean()))\n",
    "print(\"Standard deviation Before Standardized:\", X[:,0].std())\n",
    "print(\"\\nMean After Standardized:\", round(X_standardized[:,0].mean()))\n",
    "print(\"Standard deviation After Standardized:\", X_standardized[:,0].std())"
   ]
  },
  {
   "cell_type": "code",
   "execution_count": 10,
   "metadata": {
    "ExecuteTime": {
     "end_time": "2020-04-05T10:36:38.380506Z",
     "start_time": "2020-04-05T10:36:38.105524Z"
    }
   },
   "outputs": [],
   "source": [
    "#Build Model\n",
    "def recall_m(y_true, y_pred):\n",
    "    true_positives = K.sum(K.round(K.clip(y_true * y_pred, 0, 1)))\n",
    "    possible_positives = K.sum(K.round(K.clip(y_true, 0, 1)))\n",
    "    recall = true_positives / (possible_positives + K.epsilon())\n",
    "    return recall\n",
    "\n",
    "def precision_m(y_true, y_pred):\n",
    "    true_positives = K.sum(K.round(K.clip(y_true * y_pred, 0, 1)))\n",
    "    predicted_positives = K.sum(K.round(K.clip(y_pred, 0, 1)))\n",
    "    precision = true_positives / (predicted_positives + K.epsilon())\n",
    "    return precision\n",
    "\n",
    "def f1_m(y_true, y_pred):\n",
    "    precision = precision_m(y_true, y_pred)\n",
    "    recall = recall_m(y_true, y_pred)\n",
    "    return 2*((precision*recall)/(precision+recall+K.epsilon()))\n",
    "\n",
    "def create_model():\n",
    "    network = models.Sequential()\n",
    "    network.add(Dense(units=128, activation=\"elu\", input_shape=(X.shape[1],)))\n",
    "    network.add(BatchNormalization())\n",
    "    network.add(Dropout(rate = 0.1))\n",
    "    network.add(Dense(units=128, activation=\"elu\", kernel_regularizer = l2(0.2), bias_regularizer = l2(0.2)))\n",
    "    network.add(BatchNormalization())\n",
    "    network.add(Dense(units=128, activation=\"elu\", kernel_regularizer = l2(0.2), bias_regularizer = l2(0.2)))\n",
    "    network.add(BatchNormalization())\n",
    "    network.add(Dense(units=1, activation=\"sigmoid\"))\n",
    "    \n",
    "    opt = Adam(lr=0.001, decay = 1e-5, beta_1=0.9, beta_2=0.999, amsgrad=False)\n",
    "    network.compile(loss=\"binary_crossentropy\",\n",
    "                    optimizer=opt, \n",
    "                    metrics=[\"accuracy\", f1_m])\n",
    "    return network\n",
    "\n",
    "network = create_model()\n"
   ]
  },
  {
   "cell_type": "code",
   "execution_count": 11,
   "metadata": {
    "ExecuteTime": {
     "end_time": "2020-04-05T10:36:38.796028Z",
     "start_time": "2020-04-05T10:36:38.786667Z"
    }
   },
   "outputs": [
    {
     "data": {
      "text/plain": [
       "'\\ncv = StratifiedKFold(n_splits=5, random_state=None, shuffle=True)\\nnetwork_score = []\\nfor train_idx, test_idx in cv.split(X_standardized,y):\\n    network.fit(X_standardized[train_idx], y[train_idx], \\n                epochs=10,\\n                verbose=1,\\n                batch_size=128)\\n    y_pred = network.predict(X_standardized[test_idx])\\n    network_score.append(accuracy_score(y[test_idx], y_pred.round()))\\n    print(network_score[-1])\\n\\nnetwork_score = np.array(network_score)\\nprint(\"\\nAccuracy mean:\", network_score.mean())\\nprint(\"Accuracy std:\",network_score.std())\\n'"
      ]
     },
     "execution_count": 11,
     "metadata": {},
     "output_type": "execute_result"
    }
   ],
   "source": [
    "#Model Evaluation\n",
    "\n",
    "'''\n",
    "cv = StratifiedKFold(n_splits=5, random_state=None, shuffle=True)\n",
    "network_score = []\n",
    "for train_idx, test_idx in cv.split(X_standardized,y):\n",
    "    network.fit(X_standardized[train_idx], y[train_idx], \n",
    "                epochs=10,\n",
    "                verbose=1,\n",
    "                batch_size=128)\n",
    "    y_pred = network.predict(X_standardized[test_idx])\n",
    "    network_score.append(accuracy_score(y[test_idx], y_pred.round()))\n",
    "    print(network_score[-1])\n",
    "\n",
    "network_score = np.array(network_score)\n",
    "print(\"\\nAccuracy mean:\", network_score.mean())\n",
    "print(\"Accuracy std:\",network_score.std())\n",
    "'''\n",
    "\n",
    "\n",
    "   "
   ]
  },
  {
   "cell_type": "code",
   "execution_count": 16,
   "metadata": {
    "ExecuteTime": {
     "end_time": "2020-04-05T11:07:13.564029Z",
     "start_time": "2020-04-05T10:55:13.231548Z"
    }
   },
   "outputs": [
    {
     "name": "stdout",
     "output_type": "stream",
     "text": [
      "Train on 96705 samples, validate on 10746 samples\n",
      "Epoch 1/20\n",
      "96705/96705 [==============================] - 37s 380us/sample - loss: 0.3295 - accuracy: 0.8486 - f1_m: 0.7836 - val_loss: 0.3050 - val_accuracy: 0.8647 - val_f1_m: 0.7968\n",
      "Epoch 2/20\n",
      "96705/96705 [==============================] - 41s 421us/sample - loss: 0.3271 - accuracy: 0.8496 - f1_m: 0.7851 - val_loss: 0.3342 - val_accuracy: 0.8389 - val_f1_m: 0.7282\n",
      "Epoch 3/20\n",
      "96705/96705 [==============================] - 48s 492us/sample - loss: 0.3258 - accuracy: 0.8502 - f1_m: 0.7862 - val_loss: 0.3020 - val_accuracy: 0.8644 - val_f1_m: 0.8008\n",
      "Epoch 4/20\n",
      "96705/96705 [==============================] - 32s 330us/sample - loss: 0.3265 - accuracy: 0.8491 - f1_m: 0.7852 - val_loss: 0.3293 - val_accuracy: 0.8405 - val_f1_m: 0.7334\n",
      "Epoch 5/20\n",
      "96705/96705 [==============================] - 41s 426us/sample - loss: 0.3261 - accuracy: 0.8503 - f1_m: 0.7861 - val_loss: 0.3049 - val_accuracy: 0.8616 - val_f1_m: 0.8065\n",
      "Epoch 6/20\n",
      "96705/96705 [==============================] - 37s 383us/sample - loss: 0.3263 - accuracy: 0.8504 - f1_m: 0.7860 - val_loss: 0.3042 - val_accuracy: 0.8622 - val_f1_m: 0.7998\n",
      "Epoch 7/20\n",
      "96705/96705 [==============================] - 40s 411us/sample - loss: 0.3249 - accuracy: 0.8510 - f1_m: 0.7873 - val_loss: 0.3039 - val_accuracy: 0.8625 - val_f1_m: 0.7961\n",
      "Epoch 8/20\n",
      "96705/96705 [==============================] - 41s 426us/sample - loss: 0.3240 - accuracy: 0.8511 - f1_m: 0.7872 - val_loss: 0.3074 - val_accuracy: 0.8631 - val_f1_m: 0.7996\n",
      "Epoch 9/20\n",
      "96705/96705 [==============================] - 47s 483us/sample - loss: 0.3247 - accuracy: 0.8508 - f1_m: 0.7863 - val_loss: 0.3155 - val_accuracy: 0.8566 - val_f1_m: 0.7758\n",
      "Epoch 10/20\n",
      "96705/96705 [==============================] - 40s 411us/sample - loss: 0.3232 - accuracy: 0.8516 - f1_m: 0.7879 - val_loss: 0.3444 - val_accuracy: 0.8305 - val_f1_m: 0.7051\n",
      "Epoch 11/20\n",
      "96705/96705 [==============================] - 36s 374us/sample - loss: 0.3233 - accuracy: 0.8520 - f1_m: 0.7877 - val_loss: 0.3027 - val_accuracy: 0.8621 - val_f1_m: 0.8062\n",
      "Epoch 12/20\n",
      "96705/96705 [==============================] - 31s 321us/sample - loss: 0.3241 - accuracy: 0.8516 - f1_m: 0.7878 - val_loss: 0.3037 - val_accuracy: 0.8642 - val_f1_m: 0.8037\n",
      "Epoch 13/20\n",
      "96705/96705 [==============================] - 31s 319us/sample - loss: 0.3242 - accuracy: 0.8515 - f1_m: 0.7874 - val_loss: 0.3168 - val_accuracy: 0.8499 - val_f1_m: 0.7599\n",
      "Epoch 14/20\n",
      "96705/96705 [==============================] - 31s 319us/sample - loss: 0.3234 - accuracy: 0.8520 - f1_m: 0.7885 - val_loss: 0.3296 - val_accuracy: 0.8535 - val_f1_m: 0.7699\n",
      "Epoch 15/20\n",
      "96705/96705 [==============================] - 31s 319us/sample - loss: 0.3224 - accuracy: 0.8518 - f1_m: 0.7881 - val_loss: 0.3107 - val_accuracy: 0.8597 - val_f1_m: 0.7849\n",
      "Epoch 16/20\n",
      "96705/96705 [==============================] - 32s 330us/sample - loss: 0.3213 - accuracy: 0.8540 - f1_m: 0.7909 - val_loss: 0.3148 - val_accuracy: 0.8526 - val_f1_m: 0.7655\n",
      "Epoch 17/20\n",
      "96705/96705 [==============================] - 32s 333us/sample - loss: 0.3221 - accuracy: 0.8529 - f1_m: 0.7898 - val_loss: 0.3016 - val_accuracy: 0.8637 - val_f1_m: 0.8041\n",
      "Epoch 18/20\n",
      "96705/96705 [==============================] - 30s 313us/sample - loss: 0.3220 - accuracy: 0.8525 - f1_m: 0.7885 - val_loss: 0.3044 - val_accuracy: 0.8632 - val_f1_m: 0.7959\n",
      "Epoch 19/20\n",
      "96705/96705 [==============================] - 31s 319us/sample - loss: 0.3194 - accuracy: 0.8542 - f1_m: 0.7919 - val_loss: 0.3084 - val_accuracy: 0.8610 - val_f1_m: 0.7908\n",
      "Epoch 20/20\n",
      "96705/96705 [==============================] - 31s 320us/sample - loss: 0.3223 - accuracy: 0.8518 - f1_m: 0.7873 - val_loss: 0.3021 - val_accuracy: 0.8622 - val_f1_m: 0.8026\n"
     ]
    },
    {
     "data": {
      "text/plain": [
       "<tensorflow.python.keras.callbacks.History at 0x7ff454d02310>"
      ]
     },
     "execution_count": 16,
     "metadata": {},
     "output_type": "execute_result"
    }
   ],
   "source": [
    "X_train, X_test, y_train, y_test = train_test_split(X, y, shuffle = True, test_size = 0.1)\n",
    "scaler = preprocessing.StandardScaler()\n",
    "X_train = scaler.fit_transform(X_train)\n",
    "X_test = scaler.transform(X_test)\n",
    "network.fit(x = X_train, y = y_train, epochs = 20, batch_size = 32, validation_split = 0.1, shuffle = True)"
   ]
  },
  {
   "cell_type": "code",
   "execution_count": 17,
   "metadata": {
    "ExecuteTime": {
     "end_time": "2020-04-05T11:08:20.245349Z",
     "start_time": "2020-04-05T11:08:00.615452Z"
    }
   },
   "outputs": [
    {
     "name": "stdout",
     "output_type": "stream",
     "text": [
      "Model Performance :\n",
      "              precision    recall  f1-score   support\n",
      "\n",
      "           0       0.88      0.91      0.89      7464\n",
      "           1       0.84      0.79      0.81      4475\n",
      "\n",
      "    accuracy                           0.86     11939\n",
      "   macro avg       0.86      0.85      0.85     11939\n",
      "weighted avg       0.86      0.86      0.86     11939\n",
      "\n"
     ]
    }
   ],
   "source": [
    "y_pred = network.predict(X_test).ravel().round()\n",
    "print(\"Model Performance :\")\n",
    "print(classification_report(y_test, y_pred))"
   ]
  },
  {
   "cell_type": "code",
   "execution_count": null,
   "metadata": {},
   "outputs": [],
   "source": []
  }
 ],
 "metadata": {
  "kernelspec": {
   "display_name": "Python 3",
   "language": "python",
   "name": "python3"
  },
  "language_info": {
   "codemirror_mode": {
    "name": "ipython",
    "version": 3
   },
   "file_extension": ".py",
   "mimetype": "text/x-python",
   "name": "python",
   "nbconvert_exporter": "python",
   "pygments_lexer": "ipython3",
   "version": "3.7.6"
  },
  "toc": {
   "base_numbering": 1,
   "nav_menu": {},
   "number_sections": true,
   "sideBar": true,
   "skip_h1_title": false,
   "title_cell": "Table of Contents",
   "title_sidebar": "Contents",
   "toc_cell": false,
   "toc_position": {},
   "toc_section_display": true,
   "toc_window_display": false
  },
  "varInspector": {
   "cols": {
    "lenName": 16,
    "lenType": 16,
    "lenVar": 40
   },
   "kernels_config": {
    "python": {
     "delete_cmd_postfix": "",
     "delete_cmd_prefix": "del ",
     "library": "var_list.py",
     "varRefreshCmd": "print(var_dic_list())"
    },
    "r": {
     "delete_cmd_postfix": ") ",
     "delete_cmd_prefix": "rm(",
     "library": "var_list.r",
     "varRefreshCmd": "cat(var_dic_list()) "
    }
   },
   "types_to_exclude": [
    "module",
    "function",
    "builtin_function_or_method",
    "instance",
    "_Feature"
   ],
   "window_display": false
  }
 },
 "nbformat": 4,
 "nbformat_minor": 2
}
