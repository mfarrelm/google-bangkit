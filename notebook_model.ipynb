{
 "cells": [
  {
   "cell_type": "code",
   "execution_count": 3,
   "metadata": {},
   "outputs": [],
   "source": [
    "import pandas as pd\n",
    "import numpy as np\n",
    "import seaborn as sns\n",
    "import matplotlib.pyplot as plt\n",
    "from sklearn import preprocessing\n",
    "from sklearn.model_selection import train_test_split, KFold, StratifiedKFold\n",
    "from sklearn.metrics import accuracy_score\n",
    "from keras import models\n",
    "from keras import layers"
   ]
  },
  {
   "cell_type": "code",
   "execution_count": 4,
   "metadata": {},
   "outputs": [],
   "source": [
    "df_ready = pd.read_csv('df_ready.csv')"
   ]
  },
  {
   "cell_type": "code",
   "execution_count": 5,
   "metadata": {},
   "outputs": [
    {
     "name": "stdout",
     "output_type": "stream",
     "text": [
      "Mean Before Standardized: 104.0\n",
      "Standard deviation Before Standardized: 106.86264950916215\n",
      "\n",
      "Mean After Standardized: 0.0\n",
      "Standard deviation After Standardized: 1.0\n"
     ]
    }
   ],
   "source": [
    "X = df_ready.drop(['is_canceled'], axis=1).to_numpy()\n",
    "scaler = preprocessing.StandardScaler()\n",
    "X_standardized = scaler.fit_transform(X)\n",
    "\n",
    "y = df_ready['is_canceled'].to_numpy()\n",
    "\n",
    "print(\"Mean Before Standardized:\", round(X[:,0].mean()))\n",
    "print(\"Standard deviation Before Standardized:\", X[:,0].std())\n",
    "print(\"\\nMean After Standardized:\", round(X_standardized[:,0].mean()))\n",
    "print(\"Standard deviation After Standardized:\", X_standardized[:,0].std())"
   ]
  },
  {
   "cell_type": "code",
   "execution_count": 8,
   "metadata": {},
   "outputs": [],
   "source": [
    "#Build Model\n",
    "network = models.Sequential()\n",
    "network.add(layers.Dense(units=32, activation=\"relu\", input_shape=(X.shape[1],)))\n",
    "network.add(layers.Dense(units=32, activation=\"relu\"))\n",
    "network.add(layers.Dense(units=1, activation=\"sigmoid\"))\n",
    "network.compile(loss=\"binary_crossentropy\",\n",
    "                optimizer=\"adam\", \n",
    "                metrics=[\"accuracy\"]) "
   ]
  },
  {
   "cell_type": "code",
   "execution_count": 10,
   "metadata": {},
   "outputs": [
    {
     "name": "stdout",
     "output_type": "stream",
     "text": [
      "Epoch 1/10\n",
      "95511/95511 [==============================] - 5s 53us/step - loss: 0.3677 - accuracy: 0.8280\n",
      "Epoch 2/10\n",
      "95511/95511 [==============================] - 9s 94us/step - loss: 0.3669 - accuracy: 0.8284\n",
      "Epoch 3/10\n",
      "95511/95511 [==============================] - 8s 83us/step - loss: 0.3671 - accuracy: 0.8279 0s - loss: 0.3661 - accuracy - ETA: 0s - loss: 0.3661 - accuracy:  - ETA: 0s - loss: 0.366 - ETA\n",
      "Epoch 4/10\n",
      "95511/95511 [==============================] - 6s 67us/step - loss: 0.3658 - accuracy: 0.8277\n",
      "Epoch 5/10\n",
      "95511/95511 [==============================] - 11s 115us/step - loss: 0.3652 - accuracy: 0.8269\n",
      "Epoch 6/10\n",
      "95511/95511 [==============================] - 8s 84us/step - loss: 0.3652 - accuracy: 0.8271\n",
      "Epoch 7/10\n",
      "95511/95511 [==============================] - 10s 106us/step - loss: 0.3636 - accuracy: 0.8273\n",
      "Epoch 8/10\n",
      "95511/95511 [==============================] - 10s 104us/step - loss: 0.3632 - accuracy: 0.8273s - los\n",
      "Epoch 9/10\n",
      "95511/95511 [==============================] - 10s 107us/step - loss: 0.3621 - accuracy: 0.8266\n",
      "Epoch 10/10\n",
      "95511/95511 [==============================] - 11s 116us/step - loss: 0.3611 - accuracy: 0.8287\n",
      "0.8341639097114619\n",
      "Epoch 1/10\n",
      "95512/95512 [==============================] - 9s 90us/step - loss: 0.3581 - accuracy: 0.8297\n",
      "Epoch 2/10\n",
      "95512/95512 [==============================] - 9s 98us/step - loss: 0.3560 - accuracy: 0.8308\n",
      "Epoch 3/10\n",
      "95512/95512 [==============================] - 10s 103us/step - loss: 0.3559 - accuracy: 0.8303s - l\n",
      "Epoch 4/10\n",
      "95512/95512 [==============================] - 11s 116us/step - loss: 0.3546 - accuracy: 0.8314s - l\n",
      "Epoch 5/10\n",
      "39000/95512 [===========>..................] - ETA: 11s - loss: 0.3499 - accuracy: 0.8320.815813719742022\n",
      "Epoch 1/10\n",
      "95512/95512 [==============================] - 5s 53us/step - loss: 0.3421 - accuracy: 0.8374\n",
      "Epoch 2/10\n",
      "95512/95512 [==============================] - 9s 91us/step - loss: 0.3416 - accuracy: 0.8375A: 13s - loss: 0.3398 - accuracy: 0.8 - ETA: 12s - loss: 0.3417 - acc - ETA: 11s - loss: 0.34\n",
      "Epoch 3/10\n",
      "95512/95512 [==============================] - 10s 101us/step - loss: 0.3409 - accuracy: 0.8377\n",
      "Epoch 4/10\n",
      "95512/95512 [==============================] - 9s 96us/step - loss: 0.3416 - accuracy: 0.8382\n",
      "Epoch 5/10\n",
      "95512/95512 [==============================] - ETA: 0s - loss: 0.3395 - accuracy: 0.83 - 10s 100us/step - loss: 0.3394 - accuracy: 0.8394\n",
      "Epoch 6/10\n",
      "95512/95512 [==============================] - 5s 50us/step - loss: 0.3402 - accuracy: 0.8384\n",
      "Epoch 7/10\n",
      "95512/95512 [==============================] - 7s 78us/step - loss: 0.3375 - accuracy: 0.8403\n",
      "Epoch 8/10\n",
      "95512/95512 [==============================] - 10s 104us/step - loss: 0.3374 - accuracy: 0.8405\n",
      "Epoch 9/10\n",
      "95512/95512 [==============================] - 10s 104us/step - loss: 0.3402 - accuracy: 0.8395\n",
      "Epoch 10/10\n",
      "95512/95512 [==============================] - 7s 70us/step - loss: 0.3372 - accuracy: 0.8396\n",
      "0.8389312337716727\n",
      "Epoch 1/10\n",
      "95513/95513 [==============================] - 6s 65us/step - loss: 0.3389 - accuracy: 0.8397\n",
      "Epoch 2/10\n",
      "95513/95513 [==============================] - 8s 88us/step - loss: 0.3375 - accuracy: 0.8400\n",
      "Epoch 3/10\n",
      "95513/95513 [==============================] - 9s 96us/step - loss: 0.3365 - accuracy: 0.8418\n",
      "Epoch 4/10\n",
      "95513/95513 [==============================] - 9s 92us/step - loss: 0.3355 - accuracy: 0.8410\n",
      "Epoch 5/10\n",
      "95513/95513 [==============================] - 9s 91us/step - loss: 0.3366 - accuracy: 0.8414\n",
      "Epoch 6/10\n",
      "95513/95513 [==============================] - 8s 83us/step - loss: 0.3360 - accuracy: 0.8416 1s\n",
      "Epoch 7/10\n",
      "95513/95513 [==============================] - 6s 60us/step - loss: 0.3356 - accuracy: 0.8415\n",
      "Epoch 8/10\n",
      "95513/95513 [==============================] - 10s 104us/step - loss: 0.3344 - accuracy: 0.8425s - loss: 0.3347 -  - ETA: 3s\n",
      "Epoch 9/10\n",
      "95513/95513 [==============================] - 11s 112us/step - loss: 0.3337 - accuracy: 0.8427\n",
      "Epoch 10/10\n",
      "95513/95513 [==============================] - 9s 94us/step - loss: 0.3338 - accuracy: 0.8428\n",
      "0.8335217992210077\n",
      "\n",
      "Accuracy mean: 0.8320043500953975\n",
      "Accuracy std: 0.00834621134464698\n"
     ]
    }
   ],
   "source": [
    "#Model Evaluation\n",
    "cv = StratifiedKFold(n_splits=5, random_state=None, shuffle=True)\n",
    "network_score = []\n",
    "for train_idx, test_idx in cv.split(X_standardized,y):\n",
    "    network.fit(X[train_idx], y[train_idx], \n",
    "                epochs=10,\n",
    "                verbose=1,\n",
    "                batch_size=100)\n",
    "    y_pred = network.predict(X[test_idx])\n",
    "    network_score.append(accuracy_score(y[test_idx], y_pred.round()))\n",
    "    print(network_score[-1])\n",
    "\n",
    "network_score = np.array(network_score)\n",
    "print(\"\\nAccuracy mean:\", network_score.mean())\n",
    "print(\"Accuracy std:\",network_score.std())"
   ]
  },
  {
   "cell_type": "code",
   "execution_count": null,
   "metadata": {},
   "outputs": [],
   "source": []
  }
 ],
 "metadata": {
  "kernelspec": {
   "display_name": "Python 3",
   "language": "python",
   "name": "python3"
  },
  "language_info": {
   "codemirror_mode": {
    "name": "ipython",
    "version": 3
   },
   "file_extension": ".py",
   "mimetype": "text/x-python",
   "name": "python",
   "nbconvert_exporter": "python",
   "pygments_lexer": "ipython3",
   "version": "3.7.3"
  },
  "toc": {
   "base_numbering": 1,
   "nav_menu": {},
   "number_sections": true,
   "sideBar": true,
   "skip_h1_title": false,
   "title_cell": "Table of Contents",
   "title_sidebar": "Contents",
   "toc_cell": false,
   "toc_position": {},
   "toc_section_display": true,
   "toc_window_display": false
  },
  "varInspector": {
   "cols": {
    "lenName": 16,
    "lenType": 16,
    "lenVar": 40
   },
   "kernels_config": {
    "python": {
     "delete_cmd_postfix": "",
     "delete_cmd_prefix": "del ",
     "library": "var_list.py",
     "varRefreshCmd": "print(var_dic_list())"
    },
    "r": {
     "delete_cmd_postfix": ") ",
     "delete_cmd_prefix": "rm(",
     "library": "var_list.r",
     "varRefreshCmd": "cat(var_dic_list()) "
    }
   },
   "types_to_exclude": [
    "module",
    "function",
    "builtin_function_or_method",
    "instance",
    "_Feature"
   ],
   "window_display": false
  }
 },
 "nbformat": 4,
 "nbformat_minor": 2
}
