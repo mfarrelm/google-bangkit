{
 "cells": [
  {
   "cell_type": "code",
   "execution_count": 19,
   "metadata": {
    "ExecuteTime": {
     "end_time": "2020-04-05T09:55:45.278893Z",
     "start_time": "2020-04-05T09:55:45.268885Z"
    }
   },
   "outputs": [],
   "source": [
    "import pandas as pd\n",
    "import numpy as np\n",
    "import seaborn as sns\n",
    "import matplotlib.pyplot as plt\n",
    "import tensorflow as tf\n",
    "from sklearn import preprocessing\n",
    "from sklearn.model_selection import train_test_split, KFold, StratifiedKFold\n",
    "from sklearn.metrics import accuracy_score, classification_report\n",
    "from tensorflow.keras import models\n",
    "from tensorflow.keras.models import Model\n",
    "from tensorflow.keras.layers import Dense, Input\n",
    "from tensorflow.keras.optimizers import Adam\n",
    "from tensorflow.keras.regularizers import l2\n",
    "from keras import backend as K"
   ]
  },
  {
   "cell_type": "code",
   "execution_count": 14,
   "metadata": {
    "ExecuteTime": {
     "end_time": "2020-04-05T09:48:45.308053Z",
     "start_time": "2020-04-05T09:48:44.882603Z"
    }
   },
   "outputs": [],
   "source": [
    "df_ready = pd.read_csv('df_ready.csv')"
   ]
  },
  {
   "cell_type": "code",
   "execution_count": 15,
   "metadata": {
    "ExecuteTime": {
     "end_time": "2020-04-05T09:48:45.625623Z",
     "start_time": "2020-04-05T09:48:45.362952Z"
    }
   },
   "outputs": [
    {
     "name": "stdout",
     "output_type": "stream",
     "text": [
      "Mean Before Standardized: 104.0\n",
      "Standard deviation Before Standardized: 106.86264950916215\n",
      "\n",
      "Mean After Standardized: 0.0\n",
      "Standard deviation After Standardized: 1.0\n"
     ]
    }
   ],
   "source": [
    "X = df_ready.drop(['year','month','day','is_canceled'], axis=1).to_numpy()\n",
    "y = df_ready['is_canceled'].to_numpy()\n",
    "scaler = preprocessing.StandardScaler()\n",
    "X_standardized = scaler.fit_transform(X)\n",
    "\n",
    "print(\"Mean Before Standardized:\", round(X[:,0].mean()))\n",
    "print(\"Standard deviation Before Standardized:\", X[:,0].std())\n",
    "print(\"\\nMean After Standardized:\", round(X_standardized[:,0].mean()))\n",
    "print(\"Standard deviation After Standardized:\", X_standardized[:,0].std())"
   ]
  },
  {
   "cell_type": "code",
   "execution_count": 16,
   "metadata": {
    "ExecuteTime": {
     "end_time": "2020-04-05T09:53:15.590960Z",
     "start_time": "2020-04-05T09:53:15.247966Z"
    }
   },
   "outputs": [],
   "source": [
    "#Build Model\n",
    "def recall_m(y_true, y_pred):\n",
    "    true_positives = K.sum(K.round(K.clip(y_true * y_pred, 0, 1)))\n",
    "    possible_positives = K.sum(K.round(K.clip(y_true, 0, 1)))\n",
    "    recall = true_positives / (possible_positives + K.epsilon())\n",
    "    return recall\n",
    "\n",
    "def precision_m(y_true, y_pred):\n",
    "    true_positives = K.sum(K.round(K.clip(y_true * y_pred, 0, 1)))\n",
    "    predicted_positives = K.sum(K.round(K.clip(y_pred, 0, 1)))\n",
    "    precision = true_positives / (predicted_positives + K.epsilon())\n",
    "    return precision\n",
    "\n",
    "def f1_m(y_true, y_pred):\n",
    "    precision = precision_m(y_true, y_pred)\n",
    "    recall = recall_m(y_true, y_pred)\n",
    "    return 2*((precision*recall)/(precision+recall+K.epsilon()))\n",
    "\n",
    "def create_model():\n",
    "    network = models.Sequential()\n",
    "    network.add(Dense(units=128, activation=\"elu\", input_shape=(X.shape[1],)))\n",
    "    network.add(Dense(units=64, activation=\"elu\", kernel_regularizer = l2(0.3), bias_regularizer = l2(0.3)))\n",
    "    network.add(Dense(units=32, activation=\"elu\", kernel_regularizer = l2(0.3), bias_regularizer = l2(0.3)))\n",
    "    network.add(Dense(units=1, activation=\"sigmoid\"))\n",
    "    \n",
    "    opt = Adam(lr=0.001, decay = 1e-5, beta_1=0.9, beta_2=0.999, amsgrad=False)\n",
    "    network.compile(loss=\"binary_crossentropy\",\n",
    "                    optimizer=opt, \n",
    "                    metrics=[\"accuracy\", f1_m])\n",
    "    return network\n",
    "\n",
    "network = create_model()\n"
   ]
  },
  {
   "cell_type": "code",
   "execution_count": 17,
   "metadata": {
    "ExecuteTime": {
     "end_time": "2020-04-05T09:55:45.146484Z",
     "start_time": "2020-04-05T09:53:34.607675Z"
    }
   },
   "outputs": [
    {
     "name": "stdout",
     "output_type": "stream",
     "text": [
      "Train on 76409 samples, validate on 19103 samples\n",
      "Epoch 1/20\n",
      "76409/76409 [==============================] - 9s 115us/sample - loss: 4.3000 - accuracy: 0.8167 - f1_m: 0.7232 - val_loss: 0.4563 - val_accuracy: 0.8232 - val_f1_m: 0.7385\n",
      "Epoch 2/20\n",
      "76409/76409 [==============================] - 6s 72us/sample - loss: 0.4314 - accuracy: 0.8242 - f1_m: 0.7370 - val_loss: 0.4199 - val_accuracy: 0.8237 - val_f1_m: 0.7393\n",
      "Epoch 3/20\n",
      "76409/76409 [==============================] - 8s 104us/sample - loss: 0.4081 - accuracy: 0.8255 - f1_m: 0.7406 - val_loss: 0.4022 - val_accuracy: 0.8263 - val_f1_m: 0.74334133 - ETA: 4s - lo\n",
      "Epoch 4/20\n",
      "76409/76409 [==============================] - 8s 109us/sample - loss: 0.3945 - accuracy: 0.8288 - f1_m: 0.7466 - val_loss: 0.3957 - val_accuracy: 0.8288 - val_f1_m: 0.7533 loss: 0.3961 - accuracy - ETA: 0s - loss: 0.3955 - accuracy: 0.8289 - f1_ - ETA: 0s - loss: 0.3948 - accuracy: 0.8291 -  - ETA: 0s - loss: 0.3948 - accuracy: 0.8288 - f1_m:\n",
      "Epoch 5/20\n",
      "76409/76409 [==============================] - 5s 68us/sample - loss: 0.3858 - accuracy: 0.8309 - f1_m: 0.7503 - val_loss: 0.3846 - val_accuracy: 0.8297 - val_f1_m: 0.7478\n",
      "Epoch 6/20\n",
      "76409/76409 [==============================] - 9s 119us/sample - loss: 0.3784 - accuracy: 0.8333 - f1_m: 0.7552 - val_loss: 0.3857 - val_accuracy: 0.8232 - val_f1_m: 0.7251.3811 - accura - ETA: 2s - loss: 0.3797 - accuracy: 0.8340 - f1_m: 0.75 - ETA: 2s - loss: 0.3803 - a\n",
      "Epoch 7/20\n",
      "76409/76409 [==============================] - 9s 119us/sample - loss: 0.3731 - accuracy: 0.8355 - f1_m: 0.7595 - val_loss: 0.3747 - val_accuracy: 0.8338 - val_f1_m: 0.7561 loss: 0.3710 - accuracy: 0.8378 - f1_m: 0 - ETA: 3s - loss: 0.3712 - accuracy: 0.8377 -  - ETA: 3s - loss: 0.3714 - accuracy: 0.8375 - f1_m: 0.7  - ETA: 2s - loss: 0.3736 -\n",
      "Epoch 8/20\n",
      "76409/76409 [==============================] - 7s 96us/sample - loss: 0.3685 - accuracy: 0.8366 - f1_m: 0.7616 - val_loss: 0.3746 - val_accuracy: 0.8366 - val_f1_m: 0.7611\n",
      "Epoch 9/20\n",
      "76409/76409 [==============================] - 7s 91us/sample - loss: 0.3646 - accuracy: 0.8384 - f1_m: 0.7649 - val_loss: 0.3693 - val_accuracy: 0.8334 - val_f1_m: 0.7474\n",
      "Epoch 10/20\n",
      "76409/76409 [==============================] - 10s 125us/sample - loss: 0.3618 - accuracy: 0.8399 - f1_m: 0.7675 - val_loss: 0.3623 - val_accuracy: 0.8380 - val_f1_m: 0.7736A: 4s - loss: 0.3620 - accuracy: 0.838 - ETA: 4s - loss: 0.3639 - accuracy:\n",
      "Epoch 11/20\n",
      "76409/76409 [==============================] - 9s 120us/sample - loss: 0.3586 - accuracy: 0.8411 - f1_m: 0.7697 - val_loss: 0.3647 - val_accuracy: 0.8364 - val_f1_m: 0.7639\n",
      "Epoch 12/20\n",
      "76409/76409 [==============================] - 9s 122us/sample - loss: 0.3572 - accuracy: 0.8409 - f1_m: 0.7699 - val_loss: 0.3642 - val_accuracy: 0.8419 - val_f1_m: 0.7777racy: 0.8408 - f1_m: 0.769 - ETA: 0s - loss: 0.3572 - accuracy: 0.8407\n",
      "Epoch 13/20\n",
      "76409/76409 [==============================] - 10s 133us/sample - loss: 0.3559 - accuracy: 0.8420 - f1_m: 0.7709 - val_loss: 0.3642 - val_accuracy: 0.8385 - val_f1_m: 0.7612\n",
      "Epoch 14/20\n",
      "76409/76409 [==============================] - 7s 85us/sample - loss: 0.3540 - accuracy: 0.8419 - f1_m: 0.7709 - val_loss: 0.3559 - val_accuracy: 0.8419 - val_f1_m: 0.7700\n",
      "Epoch 15/20\n",
      "76409/76409 [==============================] - 11s 139us/sample - loss: 0.3530 - accuracy: 0.8417 - f1_m: 0.7705 - val_loss: 0.3565 - val_accuracy: 0.8401 - val_f1_m: 0.7803- ETA: 0s - loss: 0.3533 - accuracy: 0.8\n",
      "Epoch 16/20\n",
      "76409/76409 [==============================] - 10s 136us/sample - loss: 0.3533 - accuracy: 0.8428 - f1_m: 0.7722 - val_loss: 0.3608 - val_accuracy: 0.8412 - val_f1_m: 0.7735\n",
      "Epoch 17/20\n",
      "76409/76409 [==============================] - 11s 146us/sample - loss: 0.3502 - accuracy: 0.8428 - f1_m: 0.7719 - val_loss: 0.3566 - val_accuracy: 0.8399 - val_f1_m: 0.7662\n",
      "Epoch 18/20\n",
      "76409/76409 [==============================] - 10s 126us/sample - loss: 0.3491 - accuracy: 0.8428 - f1_m: 0.7723 - val_loss: 0.3548 - val_accuracy: 0.8430 - val_f1_m: 0.7836\n",
      "Epoch 19/20\n",
      "76409/76409 [==============================] - 10s 130us/sample - loss: 0.3474 - accuracy: 0.8449 - f1_m: 0.7758 - val_loss: 0.3537 - val_accuracy: 0.8407 - val_f1_m: 0.7681\n",
      "Epoch 20/20\n",
      "76409/76409 [==============================] - 11s 138us/sample - loss: 0.3487 - accuracy: 0.8440 - f1_m: 0.7741 - val_loss: 0.3527 - val_accuracy: 0.8440 - val_f1_m: 0.77680.3484 - accuracy: 0.8442 - f1_m: 0.7 - ETA: 1s - loss: 0.3483 - accuracy: 0.84 - ETA: 1s - loss: 0.3484 - accuracy: 0. - ETA: 0s - loss: 0.3486 - accuracy: 0.8440 -\n"
     ]
    },
    {
     "data": {
      "image/png": "[encoded data removed]",
      "text/plain": [
       "<Figure size 432x288 with 1 Axes>"
      ]
     },
     "metadata": {
      "needs_background": "light"
     },
     "output_type": "display_data"
    }
   ],
   "source": [
    "X_train, X_test, y_train, y_test = train_test_split(X, y, shuffle = True, test_size = 0.2)\n",
    "scaler = preprocessing.StandardScaler()\n",
    "X_train = scaler.fit_transform(X_train)\n",
    "X_test = scaler.transform(X_test)\n",
    "history = network.fit(x = X_train, y = y_train, epochs = 20, batch_size = 128, validation_split = 0.2, shuffle = True)\n",
    "\n",
    "#Plot Loss\n",
    "plt.title('Loss Plot During Training')\n",
    "plt.plot(history.history['loss'], label='train')\n",
    "plt.plot(history.history['val_loss'], label='test')\n",
    "plt.legend()\n",
    "plt.show()"
   ]
  },
  {
   "cell_type": "code",
   "execution_count": 18,
   "metadata": {
    "ExecuteTime": {
     "end_time": "2020-04-05T09:56:33.094927Z",
     "start_time": "2020-04-05T09:56:31.969863Z"
    }
   },
   "outputs": [
    {
     "name": "stdout",
     "output_type": "stream",
     "text": [
      "              precision    recall  f1-score   support\n",
      "\n",
      "           0       0.86      0.91      0.88     15116\n",
      "           1       0.82      0.74      0.78      8762\n",
      "\n",
      "    accuracy                           0.84     23878\n",
      "   macro avg       0.84      0.82      0.83     23878\n",
      "weighted avg       0.84      0.84      0.84     23878\n",
      "\n"
     ]
    }
   ],
   "source": [
    "y_pred = network.predict(X_test).ravel().round()\n",
    "print(classification_report(y_test, y_pred))"
   ]
  }
 ],
 "metadata": {
  "kernelspec": {
   "display_name": "Python 3",
   "language": "python",
   "name": "python3"
  },
  "language_info": {
   "codemirror_mode": {
    "name": "ipython",
    "version": 3
   },
   "file_extension": ".py",
   "mimetype": "text/x-python",
   "name": "python",
   "nbconvert_exporter": "python",
   "pygments_lexer": "ipython3",
   "version": "3.7.3"
  },
  "toc": {
   "base_numbering": 1,
   "nav_menu": {},
   "number_sections": true,
   "sideBar": true,
   "skip_h1_title": false,
   "title_cell": "Table of Contents",
   "title_sidebar": "Contents",
   "toc_cell": false,
   "toc_position": {},
   "toc_section_display": true,
   "toc_window_display": false
  },
  "varInspector": {
   "cols": {
    "lenName": 16,
    "lenType": 16,
    "lenVar": 40
   },
   "kernels_config": {
    "python": {
     "delete_cmd_postfix": "",
     "delete_cmd_prefix": "del ",
     "library": "var_list.py",
     "varRefreshCmd": "print(var_dic_list())"
    },
    "r": {
     "delete_cmd_postfix": ") ",
     "delete_cmd_prefix": "rm(",
     "library": "var_list.r",
     "varRefreshCmd": "cat(var_dic_list()) "
    }
   },
   "types_to_exclude": [
    "module",
    "function",
    "builtin_function_or_method",
    "instance",
    "_Feature"
   ],
   "window_display": false
  }
 },
 "nbformat": 4,
 "nbformat_minor": 2
}
