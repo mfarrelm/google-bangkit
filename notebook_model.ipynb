{
 "cells": [
  {
   "cell_type": "code",
   "execution_count": 57,
   "metadata": {
    "ExecuteTime": {
     "end_time": "2020-04-05T09:55:45.278893Z",
     "start_time": "2020-04-05T09:55:45.268885Z"
    }
   },
   "outputs": [],
   "source": [
    "import pandas as pd\n",
    "import numpy as np\n",
    "import seaborn as sns\n",
    "import matplotlib.pyplot as plt\n",
    "import tensorflow as tf\n",
    "from sklearn import preprocessing\n",
    "from sklearn.model_selection import train_test_split, KFold, StratifiedKFold\n",
    "from sklearn.metrics import accuracy_score, classification_report\n",
    "from tensorflow.keras import models\n",
    "from tensorflow.keras.models import Model\n",
    "from tensorflow.keras.layers import Dense, Input\n",
    "from tensorflow.keras.optimizers import Adam\n",
    "from tensorflow.keras.regularizers import l2\n",
    "from keras import backend as K"
   ]
  },
  {
   "cell_type": "code",
   "execution_count": 36,
   "metadata": {
    "ExecuteTime": {
     "end_time": "2020-04-05T09:48:45.308053Z",
     "start_time": "2020-04-05T09:48:44.882603Z"
    }
   },
   "outputs": [],
   "source": [
    "df_ready = pd.read_csv('df_ready.csv')"
   ]
  },
  {
   "cell_type": "code",
   "execution_count": 37,
   "metadata": {
    "ExecuteTime": {
     "end_time": "2020-04-05T09:48:45.625623Z",
     "start_time": "2020-04-05T09:48:45.362952Z"
    }
   },
   "outputs": [
    {
     "name": "stdout",
     "output_type": "stream",
     "text": [
      "Mean Before Standardized: 104.0\n",
      "Standard deviation Before Standardized: 106.86264950916215\n",
      "\n",
      "Mean After Standardized: 0.0\n",
      "Standard deviation After Standardized: 1.0\n"
     ]
    }
   ],
   "source": [
    "X = df_ready.drop(['is_canceled'], axis=1).to_numpy()\n",
    "y = df_ready['is_canceled'].to_numpy()\n",
    "scaler = preprocessing.StandardScaler()\n",
    "X_standardized = scaler.fit_transform(X)\n",
    "\n",
    "print(\"Mean Before Standardized:\", round(X[:,0].mean()))\n",
    "print(\"Standard deviation Before Standardized:\", X[:,0].std())\n",
    "print(\"\\nMean After Standardized:\", round(X_standardized[:,0].mean()))\n",
    "print(\"Standard deviation After Standardized:\", X_standardized[:,0].std())"
   ]
  },
  {
   "cell_type": "code",
   "execution_count": 54,
   "metadata": {
    "ExecuteTime": {
     "end_time": "2020-04-05T09:53:15.590960Z",
     "start_time": "2020-04-05T09:53:15.247966Z"
    }
   },
   "outputs": [],
   "source": [
    "#Build Model\n",
    "def recall_m(y_true, y_pred):\n",
    "    true_positives = K.sum(K.round(K.clip(y_true * y_pred, 0, 1)))\n",
    "    possible_positives = K.sum(K.round(K.clip(y_true, 0, 1)))\n",
    "    recall = true_positives / (possible_positives + K.epsilon())\n",
    "    return recall\n",
    "\n",
    "def precision_m(y_true, y_pred):\n",
    "    true_positives = K.sum(K.round(K.clip(y_true * y_pred, 0, 1)))\n",
    "    predicted_positives = K.sum(K.round(K.clip(y_pred, 0, 1)))\n",
    "    precision = true_positives / (predicted_positives + K.epsilon())\n",
    "    return precision\n",
    "\n",
    "def f1_m(y_true, y_pred):\n",
    "    precision = precision_m(y_true, y_pred)\n",
    "    recall = recall_m(y_true, y_pred)\n",
    "    return 2*((precision*recall)/(precision+recall+K.epsilon()))\n",
    "\n",
    "def create_model():\n",
    "    network = models.Sequential()\n",
    "    network.add(Dense(units=128, activation=\"elu\", input_shape=(X.shape[1],)))\n",
    "    network.add(Dense(units=64, activation=\"elu\", kernel_regularizer = l2(0.3), bias_regularizer = l2(0.3)))\n",
    "    network.add(Dense(units=32, activation=\"elu\", kernel_regularizer = l2(0.3), bias_regularizer = l2(0.3)))\n",
    "    network.add(Dense(units=1, activation=\"sigmoid\"))\n",
    "    \n",
    "    opt = Adam(lr=0.001, decay = 1e-5, beta_1=0.9, beta_2=0.999, amsgrad=False)\n",
    "    network.compile(loss=\"binary_crossentropy\",\n",
    "                    optimizer=opt, \n",
    "                    metrics=[\"accuracy\", f1_m])\n",
    "    return network\n",
    "\n",
    "network = create_model()\n"
   ]
  },
  {
   "cell_type": "code",
   "execution_count": 55,
   "metadata": {
    "ExecuteTime": {
     "end_time": "2020-04-05T09:53:30.582690Z",
     "start_time": "2020-04-05T09:53:30.574894Z"
    }
   },
   "outputs": [
    {
     "data": {
      "text/plain": [
       "'\\ncv = StratifiedKFold(n_splits=5, random_state=None, shuffle=True)\\nnetwork_score = []\\nfor train_idx, test_idx in cv.split(X_standardized,y):\\n    network.fit(X_standardized[train_idx], y[train_idx], \\n                epochs=10,\\n                verbose=1,\\n                batch_size=128)\\n    y_pred = network.predict(X_standardized[test_idx])\\n    network_score.append(accuracy_score(y[test_idx], y_pred.round()))\\n    print(network_score[-1])\\n\\nnetwork_score = np.array(network_score)\\nprint(\"\\nAccuracy mean:\", network_score.mean())\\nprint(\"Accuracy std:\",network_score.std())\\n'"
      ]
     },
     "execution_count": 55,
     "metadata": {},
     "output_type": "execute_result"
    }
   ],
   "source": [
    "#Model Evaluation\n",
    "\n",
    "'''\n",
    "cv = StratifiedKFold(n_splits=5, random_state=None, shuffle=True)\n",
    "network_score = []\n",
    "for train_idx, test_idx in cv.split(X_standardized,y):\n",
    "    network.fit(X_standardized[train_idx], y[train_idx], \n",
    "                epochs=10,\n",
    "                verbose=1,\n",
    "                batch_size=128)\n",
    "    y_pred = network.predict(X_standardized[test_idx])\n",
    "    network_score.append(accuracy_score(y[test_idx], y_pred.round()))\n",
    "    print(network_score[-1])\n",
    "\n",
    "network_score = np.array(network_score)\n",
    "print(\"\\nAccuracy mean:\", network_score.mean())\n",
    "print(\"Accuracy std:\",network_score.std())\n",
    "'''\n",
    "\n",
    "\n",
    "   "
   ]
  },
  {
   "cell_type": "code",
   "execution_count": 56,
   "metadata": {
    "ExecuteTime": {
     "end_time": "2020-04-05T09:55:45.146484Z",
     "start_time": "2020-04-05T09:53:34.607675Z"
    }
   },
   "outputs": [
    {
     "name": "stdout",
     "output_type": "stream",
     "text": [
      "Train on 76409 samples, validate on 19103 samples\n",
      "Epoch 1/20\n",
      "76409/76409 [==============================] - 6s 84us/sample - loss: 4.3054 - accuracy: 0.8151 - f1_m: 0.7227 - val_loss: 0.4535 - val_accuracy: 0.8248 - val_f1_m: 0.7433\n",
      "Epoch 2/20\n",
      "76409/76409 [==============================] - 5s 70us/sample - loss: 0.4311 - accuracy: 0.8240 - f1_m: 0.7369 - val_loss: 0.4151 - val_accuracy: 0.8264 - val_f1_m: 0.7428\n",
      "Epoch 3/20\n",
      "76409/76409 [==============================] - 6s 82us/sample - loss: 0.4067 - accuracy: 0.8256 - f1_m: 0.7407 - val_loss: 0.3959 - val_accuracy: 0.8310 - val_f1_m: 0.7493\n",
      "Epoch 4/20\n",
      "76409/76409 [==============================] - 6s 80us/sample - loss: 0.3934 - accuracy: 0.8289 - f1_m: 0.7451 - val_loss: 0.3864 - val_accuracy: 0.8323 - val_f1_m: 0.7517\n",
      "Epoch 5/20\n",
      "76409/76409 [==============================] - 7s 95us/sample - loss: 0.3838 - accuracy: 0.8333 - f1_m: 0.7533 - val_loss: 0.3816 - val_accuracy: 0.8265 - val_f1_m: 0.7254\n",
      "Epoch 6/20\n",
      "76409/76409 [==============================] - 6s 85us/sample - loss: 0.3773 - accuracy: 0.8350 - f1_m: 0.7572 - val_loss: 0.3793 - val_accuracy: 0.8380 - val_f1_m: 0.7707\n",
      "Epoch 7/20\n",
      "76409/76409 [==============================] - 6s 82us/sample - loss: 0.3719 - accuracy: 0.8374 - f1_m: 0.7614 - val_loss: 0.3717 - val_accuracy: 0.8353 - val_f1_m: 0.7507\n",
      "Epoch 8/20\n",
      "76409/76409 [==============================] - 6s 82us/sample - loss: 0.3657 - accuracy: 0.8388 - f1_m: 0.7643 - val_loss: 0.3611 - val_accuracy: 0.8392 - val_f1_m: 0.7595\n",
      "Epoch 9/20\n",
      "76409/76409 [==============================] - 6s 82us/sample - loss: 0.3618 - accuracy: 0.8415 - f1_m: 0.7694 - val_loss: 0.3605 - val_accuracy: 0.8437 - val_f1_m: 0.7791\n",
      "Epoch 10/20\n",
      "76409/76409 [==============================] - 6s 79us/sample - loss: 0.3580 - accuracy: 0.8419 - f1_m: 0.7701 - val_loss: 0.3616 - val_accuracy: 0.8414 - val_f1_m: 0.7809\n",
      "Epoch 11/20\n",
      "76409/76409 [==============================] - 7s 88us/sample - loss: 0.3572 - accuracy: 0.8426 - f1_m: 0.7717 - val_loss: 0.3528 - val_accuracy: 0.8418 - val_f1_m: 0.7613\n",
      "Epoch 12/20\n",
      "76409/76409 [==============================] - 7s 87us/sample - loss: 0.3536 - accuracy: 0.8440 - f1_m: 0.7734 - val_loss: 0.3554 - val_accuracy: 0.8440 - val_f1_m: 0.7710\n",
      "Epoch 13/20\n",
      "76409/76409 [==============================] - 7s 88us/sample - loss: 0.3523 - accuracy: 0.8449 - f1_m: 0.7746 - val_loss: 0.3477 - val_accuracy: 0.8492 - val_f1_m: 0.7824\n",
      "Epoch 14/20\n",
      "76409/76409 [==============================] - 6s 80us/sample - loss: 0.3494 - accuracy: 0.8468 - f1_m: 0.7779 - val_loss: 0.3451 - val_accuracy: 0.8461 - val_f1_m: 0.7754\n",
      "Epoch 15/20\n",
      "76409/76409 [==============================] - 7s 88us/sample - loss: 0.3475 - accuracy: 0.8468 - f1_m: 0.7781 - val_loss: 0.3450 - val_accuracy: 0.8477 - val_f1_m: 0.7793\n",
      "Epoch 16/20\n",
      "76409/76409 [==============================] - 7s 86us/sample - loss: 0.3477 - accuracy: 0.8477 - f1_m: 0.7797 - val_loss: 0.3530 - val_accuracy: 0.8480 - val_f1_m: 0.7762\n",
      "Epoch 17/20\n",
      "76409/76409 [==============================] - 7s 87us/sample - loss: 0.3451 - accuracy: 0.8479 - f1_m: 0.7805 - val_loss: 0.3417 - val_accuracy: 0.8491 - val_f1_m: 0.7800\n",
      "Epoch 18/20\n",
      "76409/76409 [==============================] - 7s 89us/sample - loss: 0.3433 - accuracy: 0.8491 - f1_m: 0.7816 - val_loss: 0.3433 - val_accuracy: 0.8475 - val_f1_m: 0.7892\n",
      "Epoch 19/20\n",
      "76409/76409 [==============================] - 7s 96us/sample - loss: 0.3428 - accuracy: 0.8493 - f1_m: 0.7824 - val_loss: 0.3391 - val_accuracy: 0.8522 - val_f1_m: 0.7906\n",
      "Epoch 20/20\n",
      "76409/76409 [==============================] - 7s 94us/sample - loss: 0.3416 - accuracy: 0.8500 - f1_m: 0.7835 - val_loss: 0.3403 - val_accuracy: 0.8516 - val_f1_m: 0.7852\n"
     ]
    },
    {
     "data": {
      "text/plain": [
       "<tensorflow.python.keras.callbacks.History at 0x7fa22848efd0>"
      ]
     },
     "execution_count": 56,
     "metadata": {},
     "output_type": "execute_result"
    }
   ],
   "source": [
    "X_train, X_test, y_train, y_test = train_test_split(X, y, shuffle = True, test_size = 0.2)\n",
    "scaler = preprocessing.StandardScaler()\n",
    "X_train = scaler.fit_transform(X_train)\n",
    "X_test = scaler.transform(X_test)\n",
    "network.fit(x = X_train, y = y_train, epochs = 20, batch_size = 128, validation_split = 0.2, shuffle = True)"
   ]
  },
  {
   "cell_type": "code",
   "execution_count": 64,
   "metadata": {
    "ExecuteTime": {
     "end_time": "2020-04-05T09:56:33.094927Z",
     "start_time": "2020-04-05T09:56:31.969863Z"
    }
   },
   "outputs": [
    {
     "name": "stdout",
     "output_type": "stream",
     "text": [
      "              precision    recall  f1-score   support\n",
      "\n",
      "           0       0.85      0.92      0.88     15000\n",
      "           1       0.84      0.74      0.78      8878\n",
      "\n",
      "    accuracy                           0.85     23878\n",
      "   macro avg       0.85      0.83      0.83     23878\n",
      "weighted avg       0.85      0.85      0.85     23878\n",
      "\n"
     ]
    }
   ],
   "source": [
    "y_pred = network.predict(X_test).ravel().round()\n",
    "print(classification_report(y_test, y_pred))"
   ]
  },
  {
   "cell_type": "code",
   "execution_count": null,
   "metadata": {},
   "outputs": [],
   "source": []
  }
 ],
 "metadata": {
  "kernelspec": {
   "display_name": "Python 3",
   "language": "python",
   "name": "python3"
  },
  "language_info": {
   "codemirror_mode": {
    "name": "ipython",
    "version": 3
   },
   "file_extension": ".py",
   "mimetype": "text/x-python",
   "name": "python",
   "nbconvert_exporter": "python",
   "pygments_lexer": "ipython3",
   "version": "3.7.6"
  },
  "toc": {
   "base_numbering": 1,
   "nav_menu": {},
   "number_sections": true,
   "sideBar": true,
   "skip_h1_title": false,
   "title_cell": "Table of Contents",
   "title_sidebar": "Contents",
   "toc_cell": false,
   "toc_position": {},
   "toc_section_display": true,
   "toc_window_display": false
  },
  "varInspector": {
   "cols": {
    "lenName": 16,
    "lenType": 16,
    "lenVar": 40
   },
   "kernels_config": {
    "python": {
     "delete_cmd_postfix": "",
     "delete_cmd_prefix": "del ",
     "library": "var_list.py",
     "varRefreshCmd": "print(var_dic_list())"
    },
    "r": {
     "delete_cmd_postfix": ") ",
     "delete_cmd_prefix": "rm(",
     "library": "var_list.r",
     "varRefreshCmd": "cat(var_dic_list()) "
    }
   },
   "types_to_exclude": [
    "module",
    "function",
    "builtin_function_or_method",
    "instance",
    "_Feature"
   ],
   "window_display": false
  }
 },
 "nbformat": 4,
 "nbformat_minor": 2
}
