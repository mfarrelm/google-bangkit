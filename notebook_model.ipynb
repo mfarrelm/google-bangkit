{
 "cells": [
  {
   "cell_type": "code",
   "execution_count": 20,
   "metadata": {
    "ExecuteTime": {
     "end_time": "2020-04-05T09:55:45.278893Z",
     "start_time": "2020-04-05T09:55:45.268885Z"
    }
   },
   "outputs": [],
   "source": [
    "import pandas as pd\n",
    "import numpy as np\n",
    "import seaborn as sns\n",
    "import matplotlib.pyplot as plt\n",
    "import tensorflow as tf\n",
    "from sklearn import preprocessing\n",
    "from sklearn.model_selection import train_test_split, KFold, StratifiedKFold\n",
    "from sklearn.metrics import accuracy_score, classification_report\n",
    "from tensorflow.keras import models\n",
    "from tensorflow.keras.models import Model\n",
    "from tensorflow.keras.layers import Dense, Input\n",
    "from tensorflow.keras.optimizers import Adam\n",
    "from tensorflow.keras.regularizers import l2\n",
    "from keras import backend as K"
   ]
  },
  {
   "cell_type": "code",
   "execution_count": 21,
   "metadata": {
    "ExecuteTime": {
     "end_time": "2020-04-05T09:48:45.308053Z",
     "start_time": "2020-04-05T09:48:44.882603Z"
    }
   },
   "outputs": [],
   "source": [
    "df_ready = pd.read_csv('df_ready.csv')"
   ]
  },
  {
   "cell_type": "code",
   "execution_count": 22,
   "metadata": {
    "ExecuteTime": {
     "end_time": "2020-04-05T09:48:45.625623Z",
     "start_time": "2020-04-05T09:48:45.362952Z"
    }
   },
   "outputs": [
    {
     "name": "stdout",
     "output_type": "stream",
     "text": [
      "Mean Before Standardized: 104.0\n",
      "Standard deviation Before Standardized: 106.86264950916215\n",
      "\n",
      "Mean After Standardized: 0.0\n",
      "Standard deviation After Standardized: 1.0\n"
     ]
    }
   ],
   "source": [
    "X = df_ready.drop(['year','month','day','is_canceled'], axis=1).to_numpy()\n",
    "y = df_ready['is_canceled'].to_numpy()\n",
    "scaler = preprocessing.StandardScaler()\n",
    "X_standardized = scaler.fit_transform(X)\n",
    "\n",
    "print(\"Mean Before Standardized:\", round(X[:,0].mean()))\n",
    "print(\"Standard deviation Before Standardized:\", X[:,0].std())\n",
    "print(\"\\nMean After Standardized:\", round(X_standardized[:,0].mean()))\n",
    "print(\"Standard deviation After Standardized:\", X_standardized[:,0].std())"
   ]
  },
  {
   "cell_type": "code",
   "execution_count": 23,
   "metadata": {
    "ExecuteTime": {
     "end_time": "2020-04-05T09:53:15.590960Z",
     "start_time": "2020-04-05T09:53:15.247966Z"
    }
   },
   "outputs": [],
   "source": [
    "#Build Model\n",
    "def recall_m(y_true, y_pred):\n",
    "    true_positives = K.sum(K.round(K.clip(y_true * y_pred, 0, 1)))\n",
    "    possible_positives = K.sum(K.round(K.clip(y_true, 0, 1)))\n",
    "    recall = true_positives / (possible_positives + K.epsilon())\n",
    "    return recall\n",
    "\n",
    "def precision_m(y_true, y_pred):\n",
    "    true_positives = K.sum(K.round(K.clip(y_true * y_pred, 0, 1)))\n",
    "    predicted_positives = K.sum(K.round(K.clip(y_pred, 0, 1)))\n",
    "    precision = true_positives / (predicted_positives + K.epsilon())\n",
    "    return precision\n",
    "\n",
    "def f1_m(y_true, y_pred):\n",
    "    precision = precision_m(y_true, y_pred)\n",
    "    recall = recall_m(y_true, y_pred)\n",
    "    return 2*((precision*recall)/(precision+recall+K.epsilon()))\n",
    "\n",
    "def create_model():\n",
    "    network = models.Sequential()\n",
    "    network.add(Dense(units=128, activation=\"elu\", input_shape=(X.shape[1],)))\n",
    "    network.add(Dense(units=64, activation=\"elu\", kernel_regularizer = l2(0.3), bias_regularizer = l2(0.3)))\n",
    "    network.add(Dense(units=32, activation=\"elu\", kernel_regularizer = l2(0.3), bias_regularizer = l2(0.3)))\n",
    "    network.add(Dense(units=1, activation=\"sigmoid\"))\n",
    "    \n",
    "    opt = Adam(lr=0.001, decay = 1e-5, beta_1=0.9, beta_2=0.999, amsgrad=False)\n",
    "    network.compile(loss=\"binary_crossentropy\",\n",
    "                    optimizer=opt, \n",
    "                    metrics=[\"accuracy\", f1_m])\n",
    "    return network\n",
    "\n",
    "network = create_model()\n"
   ]
  },
  {
   "cell_type": "code",
   "execution_count": 24,
   "metadata": {
    "ExecuteTime": {
     "end_time": "2020-04-05T09:55:45.146484Z",
     "start_time": "2020-04-05T09:53:34.607675Z"
    }
   },
   "outputs": [
    {
     "name": "stdout",
     "output_type": "stream",
     "text": [
      "Train on 76409 samples, validate on 19103 samples\n",
      "Epoch 1/20\n",
      "76409/76409 [==============================] - 10s 137us/sample - loss: 4.2670 - accuracy: 0.8185 - f1_m: 0.7266 - val_loss: 0.4552 - val_accuracy: 0.8191 - val_f1_m: 0.7396\n",
      "Epoch 2/20\n",
      "76409/76409 [==============================] - 6s 72us/sample - loss: 0.4271 - accuracy: 0.8253 - f1_m: 0.7389 - val_loss: 0.4192 - val_accuracy: 0.8205 - val_f1_m: 0.7364\n",
      "Epoch 3/20\n",
      "76409/76409 [==============================] - 6s 81us/sample - loss: 0.4050 - accuracy: 0.8264 - f1_m: 0.7410 - val_loss: 0.4074 - val_accuracy: 0.8223 - val_f1_m: 0.7381\n",
      "Epoch 4/20\n",
      "76409/76409 [==============================] - 6s 82us/sample - loss: 0.3932 - accuracy: 0.8279 - f1_m: 0.7435 - val_loss: 0.4016 - val_accuracy: 0.8203 - val_f1_m: 0.7335\n",
      "Epoch 5/20\n",
      "76409/76409 [==============================] - 6s 83us/sample - loss: 0.3842 - accuracy: 0.8305 - f1_m: 0.7480 - val_loss: 0.3872 - val_accuracy: 0.8293 - val_f1_m: 0.7565\n",
      "Epoch 6/20\n",
      "76409/76409 [==============================] - 7s 86us/sample - loss: 0.3779 - accuracy: 0.8323 - f1_m: 0.7528 - val_loss: 0.3800 - val_accuracy: 0.8287 - val_f1_m: 0.7475\n",
      "Epoch 7/20\n",
      "76409/76409 [==============================] - 7s 85us/sample - loss: 0.3707 - accuracy: 0.8360 - f1_m: 0.7601 - val_loss: 0.3812 - val_accuracy: 0.8349 - val_f1_m: 0.7746\n",
      "Epoch 8/20\n",
      "76409/76409 [==============================] - 7s 89us/sample - loss: 0.3661 - accuracy: 0.8386 - f1_m: 0.7640 - val_loss: 0.3711 - val_accuracy: 0.8359 - val_f1_m: 0.7675\n",
      "Epoch 9/20\n",
      "76409/76409 [==============================] - 6s 83us/sample - loss: 0.3610 - accuracy: 0.8399 - f1_m: 0.7671 - val_loss: 0.3660 - val_accuracy: 0.8373 - val_f1_m: 0.7693\n",
      "Epoch 10/20\n",
      "76409/76409 [==============================] - 6s 74us/sample - loss: 0.3594 - accuracy: 0.8408 - f1_m: 0.7684 - val_loss: 0.3675 - val_accuracy: 0.8375 - val_f1_m: 0.7726\n",
      "Epoch 11/20\n",
      "76409/76409 [==============================] - 6s 73us/sample - loss: 0.3570 - accuracy: 0.8409 - f1_m: 0.7688 - val_loss: 0.3632 - val_accuracy: 0.8373 - val_f1_m: 0.7617\n",
      "Epoch 12/20\n",
      "76409/76409 [==============================] - 6s 74us/sample - loss: 0.3560 - accuracy: 0.8411 - f1_m: 0.7690 - val_loss: 0.3644 - val_accuracy: 0.8381 - val_f1_m: 0.7669\n",
      "Epoch 13/20\n",
      "76409/76409 [==============================] - 6s 77us/sample - loss: 0.3538 - accuracy: 0.8428 - f1_m: 0.7723 - val_loss: 0.3604 - val_accuracy: 0.8376 - val_f1_m: 0.7588\n",
      "Epoch 14/20\n",
      "76409/76409 [==============================] - 6s 75us/sample - loss: 0.3512 - accuracy: 0.8436 - f1_m: 0.7732 - val_loss: 0.3660 - val_accuracy: 0.8354 - val_f1_m: 0.7629\n",
      "Epoch 15/20\n",
      "76409/76409 [==============================] - 6s 76us/sample - loss: 0.3506 - accuracy: 0.8442 - f1_m: 0.7742 - val_loss: 0.3572 - val_accuracy: 0.8404 - val_f1_m: 0.7779\n",
      "Epoch 16/20\n",
      "76409/76409 [==============================] - 7s 86us/sample - loss: 0.3508 - accuracy: 0.8444 - f1_m: 0.7742 - val_loss: 0.3597 - val_accuracy: 0.8395 - val_f1_m: 0.7660\n",
      "Epoch 17/20\n",
      "76409/76409 [==============================] - 6s 79us/sample - loss: 0.3488 - accuracy: 0.8446 - f1_m: 0.7747 - val_loss: 0.3537 - val_accuracy: 0.8415 - val_f1_m: 0.7737\n",
      "Epoch 18/20\n",
      "76409/76409 [==============================] - 6s 81us/sample - loss: 0.3464 - accuracy: 0.8456 - f1_m: 0.7763 - val_loss: 0.3588 - val_accuracy: 0.8397 - val_f1_m: 0.7745\n",
      "Epoch 19/20\n",
      "76409/76409 [==============================] - 6s 80us/sample - loss: 0.3455 - accuracy: 0.8457 - f1_m: 0.7764 - val_loss: 0.3568 - val_accuracy: 0.8393 - val_f1_m: 0.7599\n",
      "Epoch 20/20\n",
      "76409/76409 [==============================] - 6s 77us/sample - loss: 0.3490 - accuracy: 0.8449 - f1_m: 0.7758 - val_loss: 0.3532 - val_accuracy: 0.8416 - val_f1_m: 0.7704\n"
     ]
    },
    {
     "data": {
      "image/png": "[encoded data removed]",
      "text/plain": [
       "<Figure size 432x288 with 1 Axes>"
      ]
     },
     "metadata": {
      "needs_background": "light"
     },
     "output_type": "display_data"
    }
   ],
   "source": [
    "X_train, X_test, y_train, y_test = train_test_split(X, y, shuffle = True, test_size = 0.2)\n",
    "scaler = preprocessing.StandardScaler()\n",
    "X_train = scaler.fit_transform(X_train)\n",
    "X_test = scaler.transform(X_test)\n",
    "history = network.fit(x = X_train, y = y_train, epochs = 20, batch_size = 128, validation_split = 0.2, shuffle = True)\n",
    "\n",
    "#Plot Loss\n",
    "plt.title('Loss Plot During Training')\n",
    "plt.plot(history.history['loss'], label='train')\n",
    "plt.plot(history.history['val_loss'], label='test')\n",
    "plt.legend()\n",
    "plt.show()"
   ]
  },
  {
   "cell_type": "code",
   "execution_count": 25,
   "metadata": {
    "ExecuteTime": {
     "end_time": "2020-04-05T09:56:33.094927Z",
     "start_time": "2020-04-05T09:56:31.969863Z"
    }
   },
   "outputs": [
    {
     "name": "stdout",
     "output_type": "stream",
     "text": [
      "              precision    recall  f1-score   support\n",
      "\n",
      "           0       0.85      0.92      0.88     15054\n",
      "           1       0.84      0.73      0.78      8824\n",
      "\n",
      "    accuracy                           0.85     23878\n",
      "   macro avg       0.84      0.82      0.83     23878\n",
      "weighted avg       0.85      0.85      0.84     23878\n",
      "\n"
     ]
    }
   ],
   "source": [
    "y_pred = network.predict(X_test).ravel().round()\n",
    "print(classification_report(y_test, y_pred))"
   ]
  }
 ],
 "metadata": {
  "kernelspec": {
   "display_name": "Python 3",
   "language": "python",
   "name": "python3"
  },
  "language_info": {
   "codemirror_mode": {
    "name": "ipython",
    "version": 3
   },
   "file_extension": ".py",
   "mimetype": "text/x-python",
   "name": "python",
   "nbconvert_exporter": "python",
   "pygments_lexer": "ipython3",
   "version": "3.7.3"
  },
  "toc": {
   "base_numbering": 1,
   "nav_menu": {},
   "number_sections": true,
   "sideBar": true,
   "skip_h1_title": false,
   "title_cell": "Table of Contents",
   "title_sidebar": "Contents",
   "toc_cell": false,
   "toc_position": {},
   "toc_section_display": true,
   "toc_window_display": false
  },
  "varInspector": {
   "cols": {
    "lenName": 16,
    "lenType": 16,
    "lenVar": 40
   },
   "kernels_config": {
    "python": {
     "delete_cmd_postfix": "",
     "delete_cmd_prefix": "del ",
     "library": "var_list.py",
     "varRefreshCmd": "print(var_dic_list())"
    },
    "r": {
     "delete_cmd_postfix": ") ",
     "delete_cmd_prefix": "rm(",
     "library": "var_list.r",
     "varRefreshCmd": "cat(var_dic_list()) "
    }
   },
   "types_to_exclude": [
    "module",
    "function",
    "builtin_function_or_method",
    "instance",
    "_Feature"
   ],
   "window_display": false
  }
 },
 "nbformat": 4,
 "nbformat_minor": 2
}
